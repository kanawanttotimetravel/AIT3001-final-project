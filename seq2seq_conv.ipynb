{
  "cells": [
    {
      "cell_type": "markdown",
      "metadata": {
        "id": "view-in-github",
        "colab_type": "text"
      },
      "source": [
        "<a href=\"https://colab.research.google.com/github/kanawanttotimetravel/AIT3001-final-project/blob/main/seq2seq_conv.ipynb\" target=\"_parent\"><img src=\"https://colab.research.google.com/assets/colab-badge.svg\" alt=\"Open In Colab\"/></a>"
      ]
    },
    {
      "cell_type": "code",
      "execution_count": null,
      "metadata": {
        "colab": {
          "base_uri": "https://localhost:8080/"
        },
        "execution": {
          "iopub.execute_input": "2024-12-11T18:58:12.191201Z",
          "iopub.status.busy": "2024-12-11T18:58:12.190746Z",
          "iopub.status.idle": "2024-12-11T18:58:20.389942Z",
          "shell.execute_reply": "2024-12-11T18:58:20.388796Z",
          "shell.execute_reply.started": "2024-12-11T18:58:12.191158Z"
        },
        "id": "NNj9jhuxIuIP",
        "outputId": "0c07cdf7-830a-4cda-f5bc-4385f80221dc",
        "trusted": true
      },
      "outputs": [
        {
          "output_type": "stream",
          "name": "stdout",
          "text": [
            "Collecting torchtext==0.12.0\n",
            "  Downloading torchtext-0.12.0-cp310-cp310-manylinux1_x86_64.whl.metadata (8.0 kB)\n",
            "Requirement already satisfied: tqdm in /usr/local/lib/python3.10/dist-packages (from torchtext==0.12.0) (4.66.6)\n",
            "Requirement already satisfied: requests in /usr/local/lib/python3.10/dist-packages (from torchtext==0.12.0) (2.32.3)\n",
            "Collecting torch==1.11.0 (from torchtext==0.12.0)\n",
            "  Downloading torch-1.11.0-cp310-cp310-manylinux1_x86_64.whl.metadata (24 kB)\n",
            "Requirement already satisfied: numpy in /usr/local/lib/python3.10/dist-packages (from torchtext==0.12.0) (1.26.4)\n",
            "Requirement already satisfied: typing-extensions in /usr/local/lib/python3.10/dist-packages (from torch==1.11.0->torchtext==0.12.0) (4.12.2)\n",
            "Requirement already satisfied: charset-normalizer<4,>=2 in /usr/local/lib/python3.10/dist-packages (from requests->torchtext==0.12.0) (3.4.0)\n",
            "Requirement already satisfied: idna<4,>=2.5 in /usr/local/lib/python3.10/dist-packages (from requests->torchtext==0.12.0) (3.10)\n",
            "Requirement already satisfied: urllib3<3,>=1.21.1 in /usr/local/lib/python3.10/dist-packages (from requests->torchtext==0.12.0) (2.2.3)\n",
            "Requirement already satisfied: certifi>=2017.4.17 in /usr/local/lib/python3.10/dist-packages (from requests->torchtext==0.12.0) (2024.8.30)\n",
            "Downloading torchtext-0.12.0-cp310-cp310-manylinux1_x86_64.whl (10.4 MB)\n",
            "\u001b[2K   \u001b[90m━━━━━━━━━━━━━━━━━━━━━━━━━━━━━━━━━━━━━━━━\u001b[0m \u001b[32m10.4/10.4 MB\u001b[0m \u001b[31m23.6 MB/s\u001b[0m eta \u001b[36m0:00:00\u001b[0m\n",
            "\u001b[?25hDownloading torch-1.11.0-cp310-cp310-manylinux1_x86_64.whl (750.6 MB)\n",
            "\u001b[2K   \u001b[90m━━━━━━━━━━━━━━━━━━━━━━━━━━━━━━━━━━━━━━━━\u001b[0m \u001b[32m750.6/750.6 MB\u001b[0m \u001b[31m1.3 MB/s\u001b[0m eta \u001b[36m0:00:00\u001b[0m\n",
            "\u001b[?25hInstalling collected packages: torch, torchtext\n",
            "  Attempting uninstall: torch\n",
            "    Found existing installation: torch 2.5.1+cu121\n",
            "    Uninstalling torch-2.5.1+cu121:\n",
            "      Successfully uninstalled torch-2.5.1+cu121\n",
            "\u001b[31mERROR: pip's dependency resolver does not currently take into account all the packages that are installed. This behaviour is the source of the following dependency conflicts.\n",
            "peft 0.13.2 requires torch>=1.13.0, but you have torch 1.11.0 which is incompatible.\n",
            "torchaudio 2.5.1+cu121 requires torch==2.5.1, but you have torch 1.11.0 which is incompatible.\n",
            "torchvision 0.20.1+cu121 requires torch==2.5.1, but you have torch 1.11.0 which is incompatible.\u001b[0m\u001b[31m\n",
            "\u001b[0mSuccessfully installed torch-1.11.0 torchtext-0.12.0\n"
          ]
        }
      ],
      "source": [
        "!pip install torchtext==0.12.0"
      ]
    },
    {
      "cell_type": "code",
      "execution_count": null,
      "metadata": {
        "colab": {
          "base_uri": "https://localhost:8080/"
        },
        "execution": {
          "iopub.execute_input": "2024-12-11T18:58:20.392131Z",
          "iopub.status.busy": "2024-12-11T18:58:20.391809Z",
          "iopub.status.idle": "2024-12-11T18:58:28.645228Z",
          "shell.execute_reply": "2024-12-11T18:58:28.644353Z",
          "shell.execute_reply.started": "2024-12-11T18:58:20.392103Z"
        },
        "id": "krYcvp8OMrNo",
        "outputId": "83f8f758-a39a-4b56-f4f4-69509bde5174",
        "trusted": true
      },
      "outputs": [
        {
          "output_type": "stream",
          "name": "stdout",
          "text": [
            "Collecting datasets\n",
            "  Downloading datasets-3.2.0-py3-none-any.whl.metadata (20 kB)\n",
            "Requirement already satisfied: filelock in /usr/local/lib/python3.10/dist-packages (from datasets) (3.16.1)\n",
            "Requirement already satisfied: numpy>=1.17 in /usr/local/lib/python3.10/dist-packages (from datasets) (1.26.4)\n",
            "Requirement already satisfied: pyarrow>=15.0.0 in /usr/local/lib/python3.10/dist-packages (from datasets) (17.0.0)\n",
            "Collecting dill<0.3.9,>=0.3.0 (from datasets)\n",
            "  Downloading dill-0.3.8-py3-none-any.whl.metadata (10 kB)\n",
            "Requirement already satisfied: pandas in /usr/local/lib/python3.10/dist-packages (from datasets) (2.2.2)\n",
            "Requirement already satisfied: requests>=2.32.2 in /usr/local/lib/python3.10/dist-packages (from datasets) (2.32.3)\n",
            "Requirement already satisfied: tqdm>=4.66.3 in /usr/local/lib/python3.10/dist-packages (from datasets) (4.66.6)\n",
            "Collecting xxhash (from datasets)\n",
            "  Downloading xxhash-3.5.0-cp310-cp310-manylinux_2_17_x86_64.manylinux2014_x86_64.whl.metadata (12 kB)\n",
            "Collecting multiprocess<0.70.17 (from datasets)\n",
            "  Downloading multiprocess-0.70.16-py310-none-any.whl.metadata (7.2 kB)\n",
            "Collecting fsspec<=2024.9.0,>=2023.1.0 (from fsspec[http]<=2024.9.0,>=2023.1.0->datasets)\n",
            "  Downloading fsspec-2024.9.0-py3-none-any.whl.metadata (11 kB)\n",
            "Requirement already satisfied: aiohttp in /usr/local/lib/python3.10/dist-packages (from datasets) (3.11.10)\n",
            "Requirement already satisfied: huggingface-hub>=0.23.0 in /usr/local/lib/python3.10/dist-packages (from datasets) (0.26.5)\n",
            "Requirement already satisfied: packaging in /usr/local/lib/python3.10/dist-packages (from datasets) (24.2)\n",
            "Requirement already satisfied: pyyaml>=5.1 in /usr/local/lib/python3.10/dist-packages (from datasets) (6.0.2)\n",
            "Requirement already satisfied: aiohappyeyeballs>=2.3.0 in /usr/local/lib/python3.10/dist-packages (from aiohttp->datasets) (2.4.4)\n",
            "Requirement already satisfied: aiosignal>=1.1.2 in /usr/local/lib/python3.10/dist-packages (from aiohttp->datasets) (1.3.1)\n",
            "Requirement already satisfied: async-timeout<6.0,>=4.0 in /usr/local/lib/python3.10/dist-packages (from aiohttp->datasets) (4.0.3)\n",
            "Requirement already satisfied: attrs>=17.3.0 in /usr/local/lib/python3.10/dist-packages (from aiohttp->datasets) (24.2.0)\n",
            "Requirement already satisfied: frozenlist>=1.1.1 in /usr/local/lib/python3.10/dist-packages (from aiohttp->datasets) (1.5.0)\n",
            "Requirement already satisfied: multidict<7.0,>=4.5 in /usr/local/lib/python3.10/dist-packages (from aiohttp->datasets) (6.1.0)\n",
            "Requirement already satisfied: propcache>=0.2.0 in /usr/local/lib/python3.10/dist-packages (from aiohttp->datasets) (0.2.1)\n",
            "Requirement already satisfied: yarl<2.0,>=1.17.0 in /usr/local/lib/python3.10/dist-packages (from aiohttp->datasets) (1.18.3)\n",
            "Requirement already satisfied: typing-extensions>=3.7.4.3 in /usr/local/lib/python3.10/dist-packages (from huggingface-hub>=0.23.0->datasets) (4.12.2)\n",
            "Requirement already satisfied: charset-normalizer<4,>=2 in /usr/local/lib/python3.10/dist-packages (from requests>=2.32.2->datasets) (3.4.0)\n",
            "Requirement already satisfied: idna<4,>=2.5 in /usr/local/lib/python3.10/dist-packages (from requests>=2.32.2->datasets) (3.10)\n",
            "Requirement already satisfied: urllib3<3,>=1.21.1 in /usr/local/lib/python3.10/dist-packages (from requests>=2.32.2->datasets) (2.2.3)\n",
            "Requirement already satisfied: certifi>=2017.4.17 in /usr/local/lib/python3.10/dist-packages (from requests>=2.32.2->datasets) (2024.8.30)\n",
            "Requirement already satisfied: python-dateutil>=2.8.2 in /usr/local/lib/python3.10/dist-packages (from pandas->datasets) (2.8.2)\n",
            "Requirement already satisfied: pytz>=2020.1 in /usr/local/lib/python3.10/dist-packages (from pandas->datasets) (2024.2)\n",
            "Requirement already satisfied: tzdata>=2022.7 in /usr/local/lib/python3.10/dist-packages (from pandas->datasets) (2024.2)\n",
            "Requirement already satisfied: six>=1.5 in /usr/local/lib/python3.10/dist-packages (from python-dateutil>=2.8.2->pandas->datasets) (1.17.0)\n",
            "Downloading datasets-3.2.0-py3-none-any.whl (480 kB)\n",
            "\u001b[2K   \u001b[90m━━━━━━━━━━━━━━━━━━━━━━━━━━━━━━━━━━━━━━━━\u001b[0m \u001b[32m480.6/480.6 kB\u001b[0m \u001b[31m21.4 MB/s\u001b[0m eta \u001b[36m0:00:00\u001b[0m\n",
            "\u001b[?25hDownloading dill-0.3.8-py3-none-any.whl (116 kB)\n",
            "\u001b[2K   \u001b[90m━━━━━━━━━━━━━━━━━━━━━━━━━━━━━━━━━━━━━━━━\u001b[0m \u001b[32m116.3/116.3 kB\u001b[0m \u001b[31m8.5 MB/s\u001b[0m eta \u001b[36m0:00:00\u001b[0m\n",
            "\u001b[?25hDownloading fsspec-2024.9.0-py3-none-any.whl (179 kB)\n",
            "\u001b[2K   \u001b[90m━━━━━━━━━━━━━━━━━━━━━━━━━━━━━━━━━━━━━━━━\u001b[0m \u001b[32m179.3/179.3 kB\u001b[0m \u001b[31m13.9 MB/s\u001b[0m eta \u001b[36m0:00:00\u001b[0m\n",
            "\u001b[?25hDownloading multiprocess-0.70.16-py310-none-any.whl (134 kB)\n",
            "\u001b[2K   \u001b[90m━━━━━━━━━━━━━━━━━━━━━━━━━━━━━━━━━━━━━━━━\u001b[0m \u001b[32m134.8/134.8 kB\u001b[0m \u001b[31m7.3 MB/s\u001b[0m eta \u001b[36m0:00:00\u001b[0m\n",
            "\u001b[?25hDownloading xxhash-3.5.0-cp310-cp310-manylinux_2_17_x86_64.manylinux2014_x86_64.whl (194 kB)\n",
            "\u001b[2K   \u001b[90m━━━━━━━━━━━━━━━━━━━━━━━━━━━━━━━━━━━━━━━━\u001b[0m \u001b[32m194.1/194.1 kB\u001b[0m \u001b[31m15.9 MB/s\u001b[0m eta \u001b[36m0:00:00\u001b[0m\n",
            "\u001b[?25hInstalling collected packages: xxhash, fsspec, dill, multiprocess, datasets\n",
            "  Attempting uninstall: fsspec\n",
            "    Found existing installation: fsspec 2024.10.0\n",
            "    Uninstalling fsspec-2024.10.0:\n",
            "      Successfully uninstalled fsspec-2024.10.0\n",
            "\u001b[31mERROR: pip's dependency resolver does not currently take into account all the packages that are installed. This behaviour is the source of the following dependency conflicts.\n",
            "gcsfs 2024.10.0 requires fsspec==2024.10.0, but you have fsspec 2024.9.0 which is incompatible.\n",
            "peft 0.13.2 requires torch>=1.13.0, but you have torch 1.11.0 which is incompatible.\u001b[0m\u001b[31m\n",
            "\u001b[0mSuccessfully installed datasets-3.2.0 dill-0.3.8 fsspec-2024.9.0 multiprocess-0.70.16 xxhash-3.5.0\n"
          ]
        }
      ],
      "source": [
        "!pip install datasets"
      ]
    },
    {
      "cell_type": "code",
      "execution_count": null,
      "metadata": {
        "execution": {
          "iopub.execute_input": "2024-12-11T18:58:28.647091Z",
          "iopub.status.busy": "2024-12-11T18:58:28.646668Z",
          "iopub.status.idle": "2024-12-11T18:58:29.292471Z",
          "shell.execute_reply": "2024-12-11T18:58:29.291793Z",
          "shell.execute_reply.started": "2024-12-11T18:58:28.647051Z"
        },
        "id": "-ektmPRBIwSC",
        "trusted": true
      },
      "outputs": [],
      "source": [
        "import os\n",
        "import time\n",
        "import math\n",
        "import random\n",
        "import numpy as np\n",
        "import torch\n",
        "from torch.utils.data import DataLoader\n",
        "from torch.nn.utils.rnn import pad_sequence\n",
        "from tqdm import tqdm\n",
        "from torchtext.data.utils import get_tokenizer\n",
        "import yaml"
      ]
    },
    {
      "cell_type": "markdown",
      "metadata": {
        "id": "NK2iUbi1JU5t"
      },
      "source": [
        "**Phần 2: Cấu hình**"
      ]
    },
    {
      "cell_type": "code",
      "execution_count": null,
      "metadata": {
        "execution": {
          "iopub.execute_input": "2024-12-11T18:58:29.294636Z",
          "iopub.status.busy": "2024-12-11T18:58:29.294268Z",
          "iopub.status.idle": "2024-12-11T18:58:29.302465Z",
          "shell.execute_reply": "2024-12-11T18:58:29.301611Z",
          "shell.execute_reply.started": "2024-12-11T18:58:29.294608Z"
        },
        "id": "ioqwkWZZJEsE",
        "trusted": true
      },
      "outputs": [],
      "source": [
        "# Tạo dictionary chứa cấu hình\n",
        "CONF = {\n",
        "    # Cấu hình cho dữ liệu\n",
        "    'lower': True,\n",
        "    'tokenizer': 'basic_english',\n",
        "    'subword_tokenizer': 'bpe',\n",
        "    'unk_token': '<unk>',\n",
        "    'sos_token': '<s>',\n",
        "    'eos_token': '</s>',\n",
        "    'pad_token': '<pad>',\n",
        "    'min_freq': 1,\n",
        "    'src': 'en',\n",
        "    'tgt': 'vi',\n",
        "    'seed': 123,\n",
        "    'epochs': 25,\n",
        "    'max_length': 100,\n",
        "    'clip': 0.2,\n",
        "    'dropout': 0.1,\n",
        "    'embed_size': 256,\n",
        "    'hidden_size': 256,\n",
        "    'batch_size': 256,\n",
        "    'kernel_size': 3,\n",
        "    'encoder_layers': 6,\n",
        "    'decoder_layers': 6,\n",
        "}\n",
        "\n",
        "# Thêm token đặc biệt vào cấu hình\n",
        "CONF[\"special_tokens\"] = {\n",
        "    CONF[\"unk_token\"]: 0,\n",
        "    CONF[\"pad_token\"]: 1,\n",
        "    CONF[\"sos_token\"]: 2,\n",
        "    CONF[\"eos_token\"]: 3,\n",
        "}\n",
        "\n",
        "# Định nghĩa hàm load_tokenizer\n",
        "from torchtext.data.utils import get_tokenizer\n",
        "\n",
        "def load_tokenizer(name, lang=None):\n",
        "    \"\"\"\n",
        "    Tải tokenizer dựa trên tên.\n",
        "    Các tokenizer hỗ trợ: 'basic_english', 'spacy', v.v.\n",
        "    \"\"\"\n",
        "    if name == \"basic_english\":\n",
        "        return get_tokenizer(\"basic_english\")\n",
        "    elif name == \"spacy\":\n",
        "        try:\n",
        "            import spacy\n",
        "            return spacy.load(lang).tokenizer\n",
        "        except ImportError:\n",
        "            raise ImportError(\"Spacy chưa được cài đặt. Hãy cài bằng lệnh '!pip install spacy'\")\n",
        "    else:\n",
        "        raise ValueError(f\"Tokenizer '{name}' không được hỗ trợ!\")\n"
      ]
    },
    {
      "cell_type": "markdown",
      "metadata": {
        "id": "njBAThGKJZce"
      },
      "source": [
        "**Phần 3: Thiết Lập Seed và Device**"
      ]
    },
    {
      "cell_type": "code",
      "execution_count": null,
      "metadata": {
        "colab": {
          "base_uri": "https://localhost:8080/"
        },
        "execution": {
          "iopub.execute_input": "2024-12-11T18:58:29.303686Z",
          "iopub.status.busy": "2024-12-11T18:58:29.303425Z",
          "iopub.status.idle": "2024-12-11T18:58:29.351359Z",
          "shell.execute_reply": "2024-12-11T18:58:29.350348Z",
          "shell.execute_reply.started": "2024-12-11T18:58:29.303661Z"
        },
        "id": "SQw5JmZsJZs-",
        "outputId": "39aa4d93-18ee-49dd-a8f2-5d3bf2dcb9a2",
        "trusted": true
      },
      "outputs": [
        {
          "output_type": "stream",
          "name": "stdout",
          "text": [
            "Using device: cuda\n"
          ]
        }
      ],
      "source": [
        "# Set seed for reproducibility\n",
        "def set_seed(seed):\n",
        "    random.seed(seed)\n",
        "    np.random.seed(seed)\n",
        "    torch.manual_seed(seed)\n",
        "    torch.cuda.manual_seed(seed)\n",
        "    torch.backends.cudnn.deterministic = True\n",
        "\n",
        "# Set the device (GPU or CPU)\n",
        "DEVICE = torch.device('cuda' if torch.cuda.is_available() else 'cpu')\n",
        "\n",
        "# Set seed\n",
        "set_seed(CONF['seed'])\n",
        "\n",
        "# Display the device being used\n",
        "print(f\"Using device: {DEVICE}\")\n"
      ]
    },
    {
      "cell_type": "markdown",
      "metadata": {
        "id": "qnNwHGdkJ3Lf"
      },
      "source": [
        "**Phần 4: Dataloader và TextTransform**"
      ]
    },
    {
      "cell_type": "code",
      "execution_count": null,
      "metadata": {
        "execution": {
          "iopub.execute_input": "2024-12-11T18:58:29.353170Z",
          "iopub.status.busy": "2024-12-11T18:58:29.352865Z",
          "iopub.status.idle": "2024-12-11T18:58:40.795582Z",
          "shell.execute_reply": "2024-12-11T18:58:40.794690Z",
          "shell.execute_reply.started": "2024-12-11T18:58:29.353142Z"
        },
        "trusted": true,
        "colab": {
          "base_uri": "https://localhost:8080/",
          "height": 370,
          "referenced_widgets": [
            "fd4dcb6ac48c4f50839a41777824e3e8",
            "7933f44e768e4eaba205cd6bc4fc138b",
            "110ac1d8e08d48c2a101a712d371342c",
            "6d086e3ee78741da87eb2e61a56e9bea",
            "a31ceea04bfc41b99644c0a2783254e3",
            "190cd6a0f030426f89b4f3f19c624ee0",
            "e155303d2ce74b76979e3a6d5f3fdab0",
            "d730e069c71b4acc891ebdde177d2ec3",
            "5a3b4b17815948868a6a6ba6912294e8",
            "c2f68ea605774f40ab96c2ea574168ab",
            "f7a75a79f5d84d45ae99823d11df5757",
            "85963e0c6c274f74a6433a3316bb4140",
            "26dbe72616234ac08e7d18eb5b23ad39",
            "4829c0d768de49caaccb14426f372234",
            "d5963b67e02f4d85a8f48fd9f9265e7c",
            "5f3ad099abb949f9a70242fcc67a60ff",
            "52da4d662c884c9aa4bf54e443d985f4",
            "3d00b5440e0d4e399694f4f183f03cfe",
            "f07acb2c403540c18fe6b0225266bd1a",
            "3727a7bfe76842fd99d7350a7dec2362",
            "0dbb2ac2398c46629fa65ee1030b9952",
            "195a9e04d573472e84234cbcb0c95e78",
            "f6caaa10dea344f6b5eca71cd5a009e6",
            "5383e968298745e98968292c6ea311c0",
            "d867aa74321a42a897f1df01a9a5ad25",
            "422200fc252b4d2baebf22032b5ca2bf",
            "483c01344d044b4fabe2e28b1cc91ac6",
            "261c39439a5a4008919039c4a4022d7c",
            "654d3d4146df4966bd9fb9a7f94d51d0",
            "a28433f312e842fa864cd38ea3aa3de0",
            "bb7eae2c70f94797acbbbb0d169e8eb9",
            "11bd6848d04d4ece95e5336041cc6f79",
            "1bcbd6c0d78446e0ac776069460a3704",
            "fa272d8ae9fb453688feca33136eef35",
            "c1d21e4275304de3bf55b98ea1bc9537",
            "9a2844cff2b64cc7b5f9bb917f026819",
            "5eb1f5cdeb1d4700849f42c992677cd4",
            "88b292406818419faac26a1b0ab6c6da",
            "d7e6ff2a6bc1487b99e9a922164f0908",
            "a435ab70f06a476fbf0994305d3fe6b6",
            "13714d318d5843518a9d9c17f2ada6f2",
            "e5e0f1c1c73a49718fdf217d023fabce",
            "22adcd062cb8499197173fc509f86245",
            "5656db62e16940ac836864a9546d070e",
            "31ae6d50ff86451e80d8055c6cb82527",
            "61c4f0be0ed14169971cf32605448f35",
            "9246c974d32f44a4967e129a9fb264f6",
            "7be8a970bc7d41499979d8859987db98",
            "46eae5b29264427fa4e3f6fa0f0cced5",
            "c6e39358ba7944a19732c89b03d60e00",
            "30535aa2c7e4497e8df5bf3a4df4aba5",
            "88edb143aba0478ea364edc9feb0d6c2",
            "25ea27f49ddd4b0984a2d2fa87eb1683",
            "d46e82390ce2431dbe39a8d656b61ae8",
            "c5160ec13128457c8f6e97d4dafdace2",
            "c8e7dc297e1246b0892cc7a179002c3d",
            "1d740d9fbf874f32ab8e1ba259b30e9c",
            "34647ce2de1a43f2982ba5c1614baa3b",
            "2a72431ef7b14193b1ccc6b3c7220850",
            "00823d748b47416aba92da1e2f660c40",
            "f7fe29b6fd944de785a993af1d04a989",
            "8f88838e1d944fdd98716b8316217245",
            "3400863700164c7697341858f24c472a",
            "068514826add481282c3acb890de0183",
            "0793e3772b104074b3d967202de02615",
            "0c406a3f9dfa4eb1a13e8922e468d771",
            "3ff7b7a391654d8eaba3ed85cc71c0fe",
            "ddd4d82945aa44bda40aa8e84a5b4199",
            "7f083f4fff8d421c8a155c0774d7d8f9",
            "060389a7bdbc42af91b6fb5055adef95",
            "0f7114ddb2cf4f519263101d26c8ccba",
            "351b56b791814709adf185af36093ecb",
            "8cc1deaa2d6c4f00ad43321c818a2da1",
            "a1d0f443eb7a47f99f467e5c58b1c4a0",
            "02d3e3d3612d402a94c5dc3145f9f0d8",
            "b9b80d50e7634dd3bf87189fee76369e",
            "26852dc12cee48508bb99506b92a32c5"
          ]
        },
        "id": "NYMRBKURel9Z",
        "outputId": "fd8013d0-2280-4576-de47-540c68caad2e"
      },
      "outputs": [
        {
          "output_type": "stream",
          "name": "stderr",
          "text": [
            "/usr/local/lib/python3.10/dist-packages/huggingface_hub/utils/_auth.py:94: UserWarning: \n",
            "The secret `HF_TOKEN` does not exist in your Colab secrets.\n",
            "To authenticate with the Hugging Face Hub, create a token in your settings tab (https://huggingface.co/settings/tokens), set it as secret in your Google Colab and restart your session.\n",
            "You will be able to reuse this secret in all of your notebooks.\n",
            "Please note that authentication is recommended but still optional to access public models or datasets.\n",
            "  warnings.warn(\n"
          ]
        },
        {
          "output_type": "display_data",
          "data": {
            "text/plain": [
              "README.md:   0%|          | 0.00/665 [00:00<?, ?B/s]"
            ],
            "application/vnd.jupyter.widget-view+json": {
              "version_major": 2,
              "version_minor": 0,
              "model_id": "fd4dcb6ac48c4f50839a41777824e3e8"
            }
          },
          "metadata": {}
        },
        {
          "output_type": "display_data",
          "data": {
            "text/plain": [
              "(…)-00000-of-00001-8fc21cb8e80d3a2d.parquet:   0%|          | 0.00/11.3M [00:00<?, ?B/s]"
            ],
            "application/vnd.jupyter.widget-view+json": {
              "version_major": 2,
              "version_minor": 0,
              "model_id": "85963e0c6c274f74a6433a3316bb4140"
            }
          },
          "metadata": {}
        },
        {
          "output_type": "display_data",
          "data": {
            "text/plain": [
              "(…)-00000-of-00001-858c0e989d9c5637.parquet:   0%|          | 0.00/1.42M [00:00<?, ?B/s]"
            ],
            "application/vnd.jupyter.widget-view+json": {
              "version_major": 2,
              "version_minor": 0,
              "model_id": "f6caaa10dea344f6b5eca71cd5a009e6"
            }
          },
          "metadata": {}
        },
        {
          "output_type": "display_data",
          "data": {
            "text/plain": [
              "(…)-00000-of-00001-99e7e50144d1c164.parquet:   0%|          | 0.00/1.42M [00:00<?, ?B/s]"
            ],
            "application/vnd.jupyter.widget-view+json": {
              "version_major": 2,
              "version_minor": 0,
              "model_id": "fa272d8ae9fb453688feca33136eef35"
            }
          },
          "metadata": {}
        },
        {
          "output_type": "display_data",
          "data": {
            "text/plain": [
              "Generating train split:   0%|          | 0/203272 [00:00<?, ? examples/s]"
            ],
            "application/vnd.jupyter.widget-view+json": {
              "version_major": 2,
              "version_minor": 0,
              "model_id": "31ae6d50ff86451e80d8055c6cb82527"
            }
          },
          "metadata": {}
        },
        {
          "output_type": "display_data",
          "data": {
            "text/plain": [
              "Generating test split:   0%|          | 0/25409 [00:00<?, ? examples/s]"
            ],
            "application/vnd.jupyter.widget-view+json": {
              "version_major": 2,
              "version_minor": 0,
              "model_id": "c8e7dc297e1246b0892cc7a179002c3d"
            }
          },
          "metadata": {}
        },
        {
          "output_type": "display_data",
          "data": {
            "text/plain": [
              "Generating valid split:   0%|          | 0/25409 [00:00<?, ? examples/s]"
            ],
            "application/vnd.jupyter.widget-view+json": {
              "version_major": 2,
              "version_minor": 0,
              "model_id": "3ff7b7a391654d8eaba3ed85cc71c0fe"
            }
          },
          "metadata": {}
        }
      ],
      "source": [
        "from datasets import load_dataset\n",
        "from torchtext.vocab import build_vocab_from_iterator\n",
        "from torch.nn.utils.rnn import pad_sequence\n",
        "from torch.utils.data import DataLoader\n",
        "import torch.nn as nn\n",
        "\n",
        "def load_hf_dataset():\n",
        "    \"\"\"\n",
        "    Tải bộ dữ liệu Anh - Việt từ Hugging Face.\n",
        "    Trả về tập train, validation, và test.\n",
        "    \"\"\"\n",
        "\n",
        "    dataset = load_dataset(\"harouzie/vi_en-translation\")\n",
        "    train_data = dataset['train']\n",
        "    valid_data = dataset['valid']\n",
        "    test_data = dataset['test']\n",
        "\n",
        "    # Định dạng lại dữ liệu thành (src, tgt) cặp câu\n",
        "    train_data = [(ex['English'], ex['Vietnamese']) for ex in train_data]\n",
        "    valid_data = [(ex['English'], ex['Vietnamese']) for ex in valid_data]\n",
        "    test_data = [(ex['English'], ex['Vietnamese']) for ex in test_data]\n",
        "\n",
        "    return train_data, valid_data, test_data\n",
        "\n",
        "# Hàm tạo vocab từ iterator\n",
        "def get_vocab(train_iter, tokenizer, conf):\n",
        "    special_tokens = conf[\"special_tokens\"]\n",
        "    unk_idx = special_tokens[conf[\"unk_token\"]]\n",
        "    vocab = build_vocab_from_iterator(\n",
        "        map(tokenizer, train_iter),\n",
        "        min_freq=conf[\"min_freq\"],\n",
        "        specials=list(special_tokens.keys())\n",
        "    )\n",
        "    vocab.set_default_index(unk_idx)\n",
        "    return vocab\n",
        "\n",
        "# Lớp TextTransform để chuyển đổi câu thành tensor\n",
        "class TextTransform(nn.Module):\n",
        "    def __init__(self, tokenizer, vocab, conf):\n",
        "        super(TextTransform, self).__init__()\n",
        "        self.tokenizer = tokenizer\n",
        "        self.vocab = vocab\n",
        "        self.SOS_IDX = conf[\"special_tokens\"][conf[\"sos_token\"]]\n",
        "        self.EOS_IDX = conf[\"special_tokens\"][conf[\"eos_token\"]]\n",
        "\n",
        "    def forward(self, sentence):\n",
        "        tokens = self.tokenizer(sentence)\n",
        "        token_ids = self.vocab(tokens)\n",
        "        return torch.cat((torch.tensor([self.SOS_IDX]), torch.tensor(token_ids), torch.tensor([self.EOS_IDX])))\n",
        "\n",
        "# Hàm lấy DataLoader với transform cho dữ liệu nguồn và đích\n",
        "def get_dataloader(data, src_transform, tgt_transform, conf):\n",
        "    def collate_fn(batch):\n",
        "        PAD_IDX = conf[\"special_tokens\"][conf[\"pad_token\"]]\n",
        "        src_batch, tgt_batch = [], []\n",
        "        for src_sample, tgt_sample in batch:\n",
        "            src_batch.append(src_transform(src_sample.rstrip(\"\\n\")))\n",
        "            tgt_batch.append(tgt_transform(tgt_sample.rstrip(\"\\n\")))\n",
        "        # Chuyển src_batch và tgt_batch sang đúng thiết bị\n",
        "        src_batch = pad_sequence(src_batch, padding_value=PAD_IDX, batch_first=True).to(DEVICE)\n",
        "        tgt_batch = pad_sequence(tgt_batch, padding_value=PAD_IDX, batch_first=True).to(DEVICE)\n",
        "        return src_batch, tgt_batch\n",
        "\n",
        "    return DataLoader(data, batch_size=conf[\"batch_size\"], collate_fn=collate_fn)\n",
        "\n",
        "# Tải tokenizer\n",
        "src_tokenizer = load_tokenizer(CONF['tokenizer'], CONF['src'])\n",
        "tgt_tokenizer = load_tokenizer(CONF['tokenizer'], CONF['tgt'])\n",
        "\n",
        "# Tải bộ dữ liệu từ Hugging Face và tạo vocab\n",
        "train_data, valid_data, test_data = load_hf_dataset()\n",
        "src_vocab = get_vocab((src for src, _ in train_data), src_tokenizer, CONF)\n",
        "tgt_vocab = get_vocab((tgt for _, tgt in train_data), tgt_tokenizer, CONF)\n",
        "\n",
        "# Tạo transform cho dữ liệu nguồn và đích\n",
        "src_transform = TextTransform(src_tokenizer, src_vocab, CONF)\n",
        "tgt_transform = TextTransform(tgt_tokenizer, tgt_vocab, CONF)\n",
        "\n",
        "# Lấy DataLoader cho tập huấn luyện, kiểm thử, và đánh giá\n",
        "train_dataloader = get_dataloader(train_data, src_transform, tgt_transform, CONF)\n",
        "valid_dataloader = get_dataloader(valid_data, src_transform, tgt_transform, CONF)\n",
        "test_dataloader = get_dataloader(test_data, src_transform, tgt_transform, CONF)\n",
        "\n"
      ]
    },
    {
      "cell_type": "code",
      "execution_count": null,
      "metadata": {
        "colab": {
          "base_uri": "https://localhost:8080/",
          "height": 1000
        },
        "execution": {
          "iopub.execute_input": "2024-12-11T18:58:40.797465Z",
          "iopub.status.busy": "2024-12-11T18:58:40.796906Z",
          "iopub.status.idle": "2024-12-11T18:58:45.538068Z",
          "shell.execute_reply": "2024-12-11T18:58:45.537131Z",
          "shell.execute_reply.started": "2024-12-11T18:58:40.797410Z"
        },
        "id": "DFrqtjZGJ3of",
        "outputId": "ce7facbb-1e5e-4e21-9a58-ed7d45a66b68",
        "trusted": true
      },
      "outputs": [
        {
          "output_type": "display_data",
          "data": {
            "text/plain": [
              "<Figure size 1000x600 with 1 Axes>"
            ],
            "image/png": "[encoded data removed]"
          },
          "metadata": {}
        },
        {
          "output_type": "display_data",
          "data": {
            "text/plain": [
              "<Figure size 1000x600 with 1 Axes>"
            ],
            "image/png": "[encoded data removed]"
          },
          "metadata": {}
        },
        {
          "output_type": "display_data",
          "data": {
            "text/plain": [
              "<Figure size 1000x600 with 1 Axes>"
            ],
            "image/png": "[encoded data removed]"
          },
          "metadata": {}
        },
        {
          "output_type": "display_data",
          "data": {
            "text/plain": [
              "<Figure size 1000x600 with 1 Axes>"
            ],
            "image/png": "[encoded data removed]"
          },
          "metadata": {}
        }
      ],
      "source": [
        "import matplotlib.pyplot as plt\n",
        "\n",
        "# Hàm tính toán và vẽ biểu đồ độ dài\n",
        "def plot_length_statistics(data, tokenizer, title):\n",
        "    \"\"\"\n",
        "    Vẽ biểu đồ phân phối độ dài, tính độ dài trung bình và lớn nhất.\n",
        "    :param data: Dữ liệu đầu vào dưới dạng (src, tgt).\n",
        "    :param tokenizer: Tokenizer được sử dụng để tách câu.\n",
        "    :param title: Tiêu đề của biểu đồ.\n",
        "    \"\"\"\n",
        "    lengths = [len(tokenizer(sentence)) for sentence, _ in data]\n",
        "\n",
        "    # Tính các thống kê cơ bản\n",
        "    avg_length = sum(lengths) / len(lengths)\n",
        "    max_length = max(lengths)\n",
        "\n",
        "    # Vẽ biểu đồ phân phối\n",
        "    plt.figure(figsize=(10, 6))\n",
        "    plt.hist(lengths, bins=range(0, max(lengths) + 1, 5), color='skyblue', edgecolor='black')\n",
        "    plt.axvline(avg_length, color='red', linestyle='--', label=f'Average Length: {avg_length:.2f}')\n",
        "    plt.axvline(max_length, color='green', linestyle='--', label=f'Max Length: {max_length}')\n",
        "    plt.title(title)\n",
        "    plt.xlabel('Sentence Length')\n",
        "    plt.ylabel('Frequency')\n",
        "    plt.legend()\n",
        "    plt.grid(axis='y')\n",
        "    plt.show()\n",
        "\n",
        "# Vẽ biểu đồ cho tập huấn luyện\n",
        "plot_length_statistics(train_data, src_tokenizer, \"Source Sentence Length Distribution (Train)\")\n",
        "plot_length_statistics(train_data, tgt_tokenizer, \"Target Sentence Length Distribution (Train)\")\n",
        "\n",
        "# Vẽ biểu đồ cho tập kiểm thử\n",
        "plot_length_statistics(valid_data, src_tokenizer, \"Source Sentence Length Distribution (Valid)\")\n",
        "plot_length_statistics(valid_data, tgt_tokenizer, \"Target Sentence Length Distribution (Valid)\")"
      ]
    },
    {
      "cell_type": "markdown",
      "metadata": {
        "id": "v8jdkjyvPo-I"
      },
      "source": [
        "**Phần 5: Xây Dựng Mô Hình**"
      ]
    },
    {
      "cell_type": "code",
      "execution_count": null,
      "metadata": {
        "execution": {
          "iopub.execute_input": "2024-12-11T18:58:45.539470Z",
          "iopub.status.busy": "2024-12-11T18:58:45.539191Z",
          "iopub.status.idle": "2024-12-11T18:58:45.556459Z",
          "shell.execute_reply": "2024-12-11T18:58:45.555592Z",
          "shell.execute_reply.started": "2024-12-11T18:58:45.539443Z"
        },
        "id": "E7X9gi2PPkdg",
        "trusted": true
      },
      "outputs": [],
      "source": [
        "# Định nghĩa lớp Encoder\n",
        "class Encoder(torch.nn.Module):\n",
        "    def __init__(self, input_dim, emb_dim, hid_dim, n_layers, kernel_size, dropout, device, max_length):\n",
        "        super(Encoder, self).__init__()\n",
        "\n",
        "        assert kernel_size % 2 == 1, \"Kernel size must be odd!\"\n",
        "\n",
        "        self.device = device\n",
        "\n",
        "        self.scale = torch.FloatTensor([math.sqrt(0.5)]).to(device)\n",
        "\n",
        "        self.tok_embedding = torch.nn.Embedding(input_dim, emb_dim)\n",
        "        self.pos_embedding = torch.nn.Embedding(max_length, emb_dim)\n",
        "\n",
        "        self.emb2hid = torch.nn.Linear(emb_dim, hid_dim)\n",
        "        self.hid2emb = torch.nn.Linear(hid_dim, emb_dim)\n",
        "\n",
        "        self.convs = torch.nn.ModuleList([\n",
        "            torch.nn.Conv1d(in_channels=hid_dim,\n",
        "                            out_channels=2 * hid_dim,\n",
        "                            kernel_size=kernel_size,\n",
        "                            padding=(kernel_size - 1) // 2)\n",
        "        for _ in range(n_layers)])\n",
        "        self.dropout = torch.nn.Dropout(dropout)\n",
        "\n",
        "    def forward(self, src):\n",
        "        batch_size = src.shape[0]\n",
        "        src_len = src.shape[1]\n",
        "\n",
        "        pos = torch.arange(0, src_len).repeat(batch_size, 1).to(self.device)\n",
        "\n",
        "        tok_embedded = self.tok_embedding(src)\n",
        "        pos_embedded = self.pos_embedding(pos)\n",
        "        embedded = self.dropout(tok_embedded + pos_embedded)\n",
        "\n",
        "        conv_input = self.emb2hid(embedded)\n",
        "        conv_input = conv_input.permute(0, 2, 1)\n",
        "\n",
        "        for conv in self.convs:\n",
        "            conved = conv(self.dropout(conv_input))\n",
        "            conved = torch.nn.functional.glu(conved, dim=1)\n",
        "            conved = (conved + conv_input) * self.scale\n",
        "            conv_input = conved\n",
        "\n",
        "        conved = self.hid2emb(conved.permute(0, 2, 1))\n",
        "        combined = (conved + embedded) * self.scale\n",
        "        return conved, combined\n",
        "\n",
        "\n",
        "# Định nghĩa lớp Decoder\n",
        "class Decoder(torch.nn.Module):\n",
        "    def __init__(self, output_dim, emb_dim, hid_dim, n_layers, kernel_size, dropout, tgt_pad_idx, device, max_length):\n",
        "        super(Decoder, self).__init__()\n",
        "\n",
        "        self.kernel_size = kernel_size\n",
        "        self.tgt_pad_idx = tgt_pad_idx\n",
        "        self.device = device\n",
        "\n",
        "        self.scale = torch.FloatTensor([math.sqrt(0.5)]).to(device)\n",
        "\n",
        "        self.tok_embedding = torch.nn.Embedding(output_dim, emb_dim)\n",
        "        self.pos_embedding = torch.nn.Embedding(max_length, emb_dim)\n",
        "\n",
        "        self.emb2hid = torch.nn.Linear(emb_dim, hid_dim)\n",
        "        self.hid2emb = torch.nn.Linear(hid_dim, emb_dim)\n",
        "\n",
        "        self.attn_hid2emb = torch.nn.Linear(hid_dim, emb_dim)\n",
        "        self.attn_emb2hid = torch.nn.Linear(emb_dim, hid_dim)\n",
        "\n",
        "        self.fc_out = torch.nn.Linear(emb_dim, output_dim)\n",
        "\n",
        "        self.convs = torch.nn.ModuleList([\n",
        "            torch.nn.Conv1d(in_channels=hid_dim,\n",
        "                            out_channels=2 * hid_dim,\n",
        "                            kernel_size=kernel_size)\n",
        "        for _ in range(n_layers)])\n",
        "\n",
        "        self.dropout = torch.nn.Dropout(dropout)\n",
        "\n",
        "    def calculate_attention(self, embedded, conved, encoder_conved, encoder_combined):\n",
        "        conved_emb = self.attn_hid2emb(conved.permute(0, 2, 1))\n",
        "        combined = (conved_emb + embedded) * self.scale\n",
        "        energy = torch.matmul(combined, encoder_conved.permute(0, 2, 1))\n",
        "        attention = torch.nn.functional.softmax(energy, dim=2)\n",
        "        attended_encoding = torch.matmul(attention, encoder_combined)\n",
        "        attended_encoding = self.attn_emb2hid(attended_encoding)\n",
        "        attended_combined = (conved + attended_encoding.permute(0, 2, 1)) * self.scale\n",
        "        return attention, attended_combined\n",
        "\n",
        "    def forward(self, tgt, encoder_conved, encoder_combined):\n",
        "        batch_size = tgt.shape[0]\n",
        "        tgt_len = tgt.shape[1]\n",
        "        pos = torch.arange(0, tgt_len).repeat(batch_size, 1).to(self.device)\n",
        "\n",
        "        tok_embedded = self.tok_embedding(tgt)\n",
        "        pos_embedded = self.pos_embedding(pos)\n",
        "        embedded = self.dropout(tok_embedded + pos_embedded)\n",
        "\n",
        "        conv_input = self.emb2hid(embedded)\n",
        "        conv_input = conv_input.permute(0, 2, 1)\n",
        "\n",
        "        for conv in self.convs:\n",
        "            conv_input = self.dropout(conv_input)\n",
        "            padding = torch.zeros(batch_size, conv_input.shape[1], self.kernel_size - 1).fill_(self.tgt_pad_idx).to(self.device)\n",
        "            padded_conv_input = torch.cat((padding, conv_input), dim=2)\n",
        "            conved = conv(padded_conv_input)\n",
        "            conved = torch.nn.functional.glu(conved, dim=1)\n",
        "            attention, conved = self.calculate_attention(embedded, conved, encoder_conved, encoder_combined)\n",
        "            conved = (conved + conv_input) * self.scale\n",
        "            conv_input = conved\n",
        "\n",
        "        conved = self.hid2emb(conved.permute(0, 2, 1))\n",
        "        output = self.fc_out(self.dropout(conved))\n",
        "        return output, attention\n",
        "\n",
        "\n",
        "# Định nghĩa mô hình Seq2Seq\n",
        "class Seq2Seq(torch.nn.Module):\n",
        "    def __init__(self, encoder, decoder):\n",
        "        super(Seq2Seq, self).__init__()\n",
        "        self.encoder = encoder\n",
        "        self.decoder = decoder\n",
        "\n",
        "    def forward(self, src, tgt):\n",
        "        encoder_conved, encoder_combined = self.encoder(src)\n",
        "        output, attention = self.decoder(tgt, encoder_conved, encoder_combined)\n",
        "        return output, attention\n"
      ]
    },
    {
      "cell_type": "markdown",
      "metadata": {
        "id": "ICYJcIblPrWF"
      },
      "source": [
        "**Phần 6: Hàm Huấn Luyện và Đánh Giá**"
      ]
    },
    {
      "cell_type": "code",
      "execution_count": null,
      "metadata": {
        "execution": {
          "iopub.execute_input": "2024-12-11T18:58:45.557826Z",
          "iopub.status.busy": "2024-12-11T18:58:45.557549Z",
          "iopub.status.idle": "2024-12-11T18:58:45.570661Z",
          "shell.execute_reply": "2024-12-11T18:58:45.569878Z",
          "shell.execute_reply.started": "2024-12-11T18:58:45.557801Z"
        },
        "id": "99tAFNelP00L",
        "trusted": true
      },
      "outputs": [],
      "source": [
        "# Hàm huấn luyện cho một epoch\n",
        "def train_epoch(model, data_loader, optimizer, criterion, clip, epoch):\n",
        "    model.train()\n",
        "    epoch_loss = 0\n",
        "    for src, tgt in tqdm(data_loader, total=len(data_loader), desc=f\"Training {epoch+1}\"):\n",
        "        # Chuyển dữ liệu sang đúng thiết bị\n",
        "        src, tgt = src.to(DEVICE), tgt.to(DEVICE)\n",
        "        optimizer.zero_grad()\n",
        "        output, _ = model(src, tgt[:, :-1])\n",
        "        output_dim = output.shape[-1]\n",
        "\n",
        "        # Làm phẳng output và target để tính loss\n",
        "        output = output.contiguous().view(-1, output_dim)\n",
        "        tgt = tgt[:, 1:].contiguous().view(-1)\n",
        "\n",
        "        # Tính loss\n",
        "        loss = criterion(output, tgt)\n",
        "        loss.backward()\n",
        "\n",
        "        # Gradient clipping để tránh gradient explosion\n",
        "        torch.nn.utils.clip_grad_norm_(model.parameters(), clip)\n",
        "\n",
        "        # Cập nhật trọng số\n",
        "        optimizer.step()\n",
        "\n",
        "        epoch_loss += loss.item()\n",
        "\n",
        "    return epoch_loss / len(data_loader)\n",
        "\n",
        "# Hàm đánh giá mô hình trên tập kiểm thử\n",
        "def evaluate(model, data_loader, criterion):\n",
        "    model.eval()\n",
        "    epoch_loss = 0\n",
        "    with torch.no_grad():  # Không tính toán gradient trong quá trình đánh giá\n",
        "        for src, tgt in tqdm(data_loader, total=len(data_loader), desc=\"Evaluating\"):\n",
        "            # Chuyển dữ liệu sang đúng thiết bị\n",
        "            src, tgt = src.to(DEVICE), tgt.to(DEVICE)\n",
        "            output, _ = model(src, tgt[:, :-1])\n",
        "            output_dim = output.shape[-1]\n",
        "\n",
        "            # Làm phẳng output và target để tính loss\n",
        "            output = output.contiguous().view(-1, output_dim)\n",
        "            tgt = tgt[:, 1:].contiguous().view(-1)\n",
        "\n",
        "            # Tính loss\n",
        "            loss = criterion(output, tgt)\n",
        "            epoch_loss += loss.item()\n",
        "\n",
        "    return epoch_loss / len(data_loader)\n",
        "\n",
        "# Hàm huấn luyện mô hình qua nhiều epoch\n",
        "def train(model, criterion, train_dataloader, valid_dataloader, optimizer, num_epochs, clip):\n",
        "    train_losses = []  # Lưu train loss mỗi epoch\n",
        "    val_losses = []    # Lưu validation loss mỗi epoch\n",
        "    best_valid_loss = float('inf')  # Khởi tạo giá trị tốt nhất để lưu mô hình\n",
        "\n",
        "    for epoch in range(num_epochs):\n",
        "        start_time = time.time()\n",
        "\n",
        "        # Huấn luyện mô hình trong một epoch\n",
        "        train_loss = train_epoch(model, train_dataloader, optimizer, criterion, clip, epoch)\n",
        "        train_losses.append(train_loss)  # Ghi lại train loss\n",
        "\n",
        "        # Đánh giá mô hình sau một epoch\n",
        "        valid_loss = evaluate(model, valid_dataloader, criterion)\n",
        "        val_losses.append(valid_loss)  # Ghi lại validation loss\n",
        "\n",
        "        end_time = time.time()\n",
        "\n",
        "        epoch_mins, epoch_secs = epoch_time(start_time, end_time)\n",
        "\n",
        "        # Lưu mô hình nếu có validation loss tốt nhất\n",
        "        if valid_loss < best_valid_loss:\n",
        "            best_valid_loss = valid_loss\n",
        "            save_model(model)\n",
        "\n",
        "        # In kết quả huấn luyện\n",
        "        print(f'Epoch: {epoch+1:02} | Time: {epoch_mins}m {epoch_secs}s')\n",
        "        print(f'\\tTrain Loss: {train_loss:.3f} | Train PPL: {math.exp(train_loss):7.3f}')\n",
        "        print(f'\\t Val. Loss: {valid_loss:.3f} |  Val. PPL: {math.exp(valid_loss):7.3f}')\n",
        "\n",
        "    return train_losses, val_losses  # Trả về danh sách train và validation loss\n",
        "\n",
        "# Hàm lưu mô hình\n",
        "def save_model(model, file_path=\"best_model.pt\"):\n",
        "    \"\"\"\n",
        "    Lưu trạng thái mô hình xuống file.\n",
        "    \"\"\"\n",
        "    torch.save(model.state_dict(), file_path)\n",
        "    print(f\"Model saved to {file_path}\")"
      ]
    },
    {
      "cell_type": "markdown",
      "metadata": {
        "id": "sYiurxo0P2-n"
      },
      "source": [
        "**Phần 7: Thực Thi Huấn Luyện**"
      ]
    },
    {
      "cell_type": "code",
      "execution_count": null,
      "metadata": {
        "colab": {
          "base_uri": "https://localhost:8080/"
        },
        "execution": {
          "iopub.execute_input": "2024-12-11T18:58:45.573064Z",
          "iopub.status.busy": "2024-12-11T18:58:45.572768Z",
          "iopub.status.idle": "2024-12-11T19:34:23.396996Z",
          "shell.execute_reply": "2024-12-11T19:34:23.395803Z",
          "shell.execute_reply.started": "2024-12-11T18:58:45.573029Z"
        },
        "id": "c04ZzpraQDFQ",
        "outputId": "d08f5e61-b53f-4252-d5da-369e304f078f",
        "trusted": true
      },
      "outputs": [
        {
          "output_type": "stream",
          "name": "stdout",
          "text": [
            "Model is on device: cuda:0\n",
            "Trainable parameters: 13506254\n"
          ]
        },
        {
          "output_type": "stream",
          "name": "stderr",
          "text": [
            "Training 1: 100%|██████████| 795/795 [01:50<00:00,  7.18it/s]\n",
            "Evaluating: 100%|██████████| 100/100 [00:07<00:00, 14.09it/s]\n"
          ]
        },
        {
          "output_type": "stream",
          "name": "stdout",
          "text": [
            "Model saved to best_model.pt\n",
            "Epoch: 01 | Time: 1m 57s\n",
            "\tTrain Loss: 4.921 | Train PPL: 137.143\n",
            "\t Val. Loss: 4.163 |  Val. PPL:  64.294\n"
          ]
        },
        {
          "output_type": "stream",
          "name": "stderr",
          "text": [
            "Training 2: 100%|██████████| 795/795 [01:51<00:00,  7.10it/s]\n",
            "Evaluating: 100%|██████████| 100/100 [00:05<00:00, 17.30it/s]\n"
          ]
        },
        {
          "output_type": "stream",
          "name": "stdout",
          "text": [
            "Model saved to best_model.pt\n",
            "Epoch: 02 | Time: 1m 57s\n",
            "\tTrain Loss: 3.714 | Train PPL:  41.028\n",
            "\t Val. Loss: 3.087 |  Val. PPL:  21.901\n"
          ]
        },
        {
          "output_type": "stream",
          "name": "stderr",
          "text": [
            "Training 3: 100%|██████████| 795/795 [01:51<00:00,  7.11it/s]\n",
            "Evaluating: 100%|██████████| 100/100 [00:05<00:00, 17.49it/s]\n"
          ]
        },
        {
          "output_type": "stream",
          "name": "stdout",
          "text": [
            "Model saved to best_model.pt\n",
            "Epoch: 03 | Time: 1m 57s\n",
            "\tTrain Loss: 3.004 | Train PPL:  20.176\n",
            "\t Val. Loss: 2.568 |  Val. PPL:  13.035\n"
          ]
        },
        {
          "output_type": "stream",
          "name": "stderr",
          "text": [
            "Training 4: 100%|██████████| 795/795 [01:51<00:00,  7.10it/s]\n",
            "Evaluating: 100%|██████████| 100/100 [00:06<00:00, 16.43it/s]\n"
          ]
        },
        {
          "output_type": "stream",
          "name": "stdout",
          "text": [
            "Model saved to best_model.pt\n",
            "Epoch: 04 | Time: 1m 58s\n",
            "\tTrain Loss: 2.587 | Train PPL:  13.293\n",
            "\t Val. Loss: 2.211 |  Val. PPL:   9.123\n"
          ]
        },
        {
          "output_type": "stream",
          "name": "stderr",
          "text": [
            "Training 5: 100%|██████████| 795/795 [01:51<00:00,  7.11it/s]\n",
            "Evaluating: 100%|██████████| 100/100 [00:05<00:00, 17.73it/s]\n"
          ]
        },
        {
          "output_type": "stream",
          "name": "stdout",
          "text": [
            "Model saved to best_model.pt\n",
            "Epoch: 05 | Time: 1m 57s\n",
            "\tTrain Loss: 2.284 | Train PPL:   9.814\n",
            "\t Val. Loss: 1.954 |  Val. PPL:   7.056\n"
          ]
        },
        {
          "output_type": "stream",
          "name": "stderr",
          "text": [
            "Training 6: 100%|██████████| 795/795 [01:51<00:00,  7.12it/s]\n",
            "Evaluating: 100%|██████████| 100/100 [00:06<00:00, 16.41it/s]\n"
          ]
        },
        {
          "output_type": "stream",
          "name": "stdout",
          "text": [
            "Model saved to best_model.pt\n",
            "Epoch: 06 | Time: 1m 57s\n",
            "\tTrain Loss: 2.057 | Train PPL:   7.826\n",
            "\t Val. Loss: 1.767 |  Val. PPL:   5.856\n"
          ]
        },
        {
          "output_type": "stream",
          "name": "stderr",
          "text": [
            "Training 7: 100%|██████████| 795/795 [01:51<00:00,  7.12it/s]\n",
            "Evaluating: 100%|██████████| 100/100 [00:05<00:00, 17.69it/s]\n"
          ]
        },
        {
          "output_type": "stream",
          "name": "stdout",
          "text": [
            "Model saved to best_model.pt\n",
            "Epoch: 07 | Time: 1m 57s\n",
            "\tTrain Loss: 1.883 | Train PPL:   6.573\n",
            "\t Val. Loss: 1.628 |  Val. PPL:   5.095\n"
          ]
        },
        {
          "output_type": "stream",
          "name": "stderr",
          "text": [
            "Training 8: 100%|██████████| 795/795 [01:51<00:00,  7.11it/s]\n",
            "Evaluating: 100%|██████████| 100/100 [00:06<00:00, 16.57it/s]\n"
          ]
        },
        {
          "output_type": "stream",
          "name": "stdout",
          "text": [
            "Model saved to best_model.pt\n",
            "Epoch: 08 | Time: 1m 57s\n",
            "\tTrain Loss: 1.745 | Train PPL:   5.727\n",
            "\t Val. Loss: 1.515 |  Val. PPL:   4.549\n"
          ]
        },
        {
          "output_type": "stream",
          "name": "stderr",
          "text": [
            "Training 9: 100%|██████████| 795/795 [01:54<00:00,  6.93it/s]\n",
            "Evaluating: 100%|██████████| 100/100 [00:05<00:00, 17.76it/s]\n"
          ]
        },
        {
          "output_type": "stream",
          "name": "stdout",
          "text": [
            "Model saved to best_model.pt\n",
            "Epoch: 09 | Time: 2m 0s\n",
            "\tTrain Loss: 1.634 | Train PPL:   5.126\n",
            "\t Val. Loss: 1.427 |  Val. PPL:   4.167\n"
          ]
        },
        {
          "output_type": "stream",
          "name": "stderr",
          "text": [
            "Training 10: 100%|██████████| 795/795 [01:51<00:00,  7.12it/s]\n",
            "Evaluating: 100%|██████████| 100/100 [00:06<00:00, 16.59it/s]\n"
          ]
        },
        {
          "output_type": "stream",
          "name": "stdout",
          "text": [
            "Model saved to best_model.pt\n",
            "Epoch: 10 | Time: 1m 57s\n",
            "\tTrain Loss: 1.541 | Train PPL:   4.667\n",
            "\t Val. Loss: 1.357 |  Val. PPL:   3.885\n"
          ]
        },
        {
          "output_type": "stream",
          "name": "stderr",
          "text": [
            "Training 11: 100%|██████████| 795/795 [01:51<00:00,  7.12it/s]\n",
            "Evaluating: 100%|██████████| 100/100 [00:05<00:00, 17.95it/s]\n"
          ]
        },
        {
          "output_type": "stream",
          "name": "stdout",
          "text": [
            "Model saved to best_model.pt\n",
            "Epoch: 11 | Time: 1m 57s\n",
            "\tTrain Loss: 1.462 | Train PPL:   4.315\n",
            "\t Val. Loss: 1.297 |  Val. PPL:   3.658\n"
          ]
        },
        {
          "output_type": "stream",
          "name": "stderr",
          "text": [
            "Training 12: 100%|██████████| 795/795 [01:51<00:00,  7.13it/s]\n",
            "Evaluating: 100%|██████████| 100/100 [00:05<00:00, 17.40it/s]\n"
          ]
        },
        {
          "output_type": "stream",
          "name": "stdout",
          "text": [
            "Model saved to best_model.pt\n",
            "Epoch: 12 | Time: 1m 57s\n",
            "\tTrain Loss: 1.394 | Train PPL:   4.032\n",
            "\t Val. Loss: 1.246 |  Val. PPL:   3.478\n"
          ]
        },
        {
          "output_type": "stream",
          "name": "stderr",
          "text": [
            "Training 13: 100%|██████████| 795/795 [01:51<00:00,  7.15it/s]\n",
            "Evaluating: 100%|██████████| 100/100 [00:05<00:00, 16.72it/s]\n"
          ]
        },
        {
          "output_type": "stream",
          "name": "stdout",
          "text": [
            "Model saved to best_model.pt\n",
            "Epoch: 13 | Time: 1m 57s\n",
            "\tTrain Loss: 1.335 | Train PPL:   3.799\n",
            "\t Val. Loss: 1.203 |  Val. PPL:   3.329\n"
          ]
        },
        {
          "output_type": "stream",
          "name": "stderr",
          "text": [
            "Training 14: 100%|██████████| 795/795 [01:51<00:00,  7.12it/s]\n",
            "Evaluating: 100%|██████████| 100/100 [00:05<00:00, 17.67it/s]\n"
          ]
        },
        {
          "output_type": "stream",
          "name": "stdout",
          "text": [
            "Model saved to best_model.pt\n",
            "Epoch: 14 | Time: 1m 57s\n",
            "\tTrain Loss: 1.281 | Train PPL:   3.602\n",
            "\t Val. Loss: 1.163 |  Val. PPL:   3.199\n"
          ]
        },
        {
          "output_type": "stream",
          "name": "stderr",
          "text": [
            "Training 15: 100%|██████████| 795/795 [01:51<00:00,  7.12it/s]\n",
            "Evaluating: 100%|██████████| 100/100 [00:06<00:00, 16.57it/s]\n"
          ]
        },
        {
          "output_type": "stream",
          "name": "stdout",
          "text": [
            "Model saved to best_model.pt\n",
            "Epoch: 15 | Time: 1m 57s\n",
            "\tTrain Loss: 1.234 | Train PPL:   3.435\n",
            "\t Val. Loss: 1.129 |  Val. PPL:   3.092\n"
          ]
        },
        {
          "output_type": "stream",
          "name": "stderr",
          "text": [
            "Training 16: 100%|██████████| 795/795 [01:51<00:00,  7.12it/s]\n",
            "Evaluating: 100%|██████████| 100/100 [00:05<00:00, 17.93it/s]\n"
          ]
        },
        {
          "output_type": "stream",
          "name": "stdout",
          "text": [
            "Model saved to best_model.pt\n",
            "Epoch: 16 | Time: 1m 57s\n",
            "\tTrain Loss: 1.190 | Train PPL:   3.288\n",
            "\t Val. Loss: 1.097 |  Val. PPL:   2.997\n"
          ]
        },
        {
          "output_type": "stream",
          "name": "stderr",
          "text": [
            "Training 17: 100%|██████████| 795/795 [01:51<00:00,  7.14it/s]\n",
            "Evaluating: 100%|██████████| 100/100 [00:05<00:00, 16.96it/s]\n"
          ]
        },
        {
          "output_type": "stream",
          "name": "stdout",
          "text": [
            "Model saved to best_model.pt\n",
            "Epoch: 17 | Time: 1m 57s\n",
            "\tTrain Loss: 1.153 | Train PPL:   3.166\n",
            "\t Val. Loss: 1.072 |  Val. PPL:   2.920\n"
          ]
        },
        {
          "output_type": "stream",
          "name": "stderr",
          "text": [
            "Training 18: 100%|██████████| 795/795 [01:51<00:00,  7.13it/s]\n",
            "Evaluating: 100%|██████████| 100/100 [00:05<00:00, 17.22it/s]\n"
          ]
        },
        {
          "output_type": "stream",
          "name": "stdout",
          "text": [
            "Model saved to best_model.pt\n",
            "Epoch: 18 | Time: 1m 57s\n",
            "\tTrain Loss: 1.118 | Train PPL:   3.058\n",
            "\t Val. Loss: 1.047 |  Val. PPL:   2.849\n"
          ]
        },
        {
          "output_type": "stream",
          "name": "stderr",
          "text": [
            "Training 19: 100%|██████████| 795/795 [01:51<00:00,  7.13it/s]\n",
            "Evaluating: 100%|██████████| 100/100 [00:05<00:00, 17.85it/s]\n"
          ]
        },
        {
          "output_type": "stream",
          "name": "stdout",
          "text": [
            "Model saved to best_model.pt\n",
            "Epoch: 19 | Time: 1m 57s\n",
            "\tTrain Loss: 1.085 | Train PPL:   2.958\n",
            "\t Val. Loss: 1.027 |  Val. PPL:   2.793\n"
          ]
        },
        {
          "output_type": "stream",
          "name": "stderr",
          "text": [
            "Training 20: 100%|██████████| 795/795 [01:51<00:00,  7.12it/s]\n",
            "Evaluating: 100%|██████████| 100/100 [00:06<00:00, 16.62it/s]\n"
          ]
        },
        {
          "output_type": "stream",
          "name": "stdout",
          "text": [
            "Model saved to best_model.pt\n",
            "Epoch: 20 | Time: 1m 57s\n",
            "\tTrain Loss: 1.055 | Train PPL:   2.871\n",
            "\t Val. Loss: 1.004 |  Val. PPL:   2.730\n"
          ]
        },
        {
          "output_type": "stream",
          "name": "stderr",
          "text": [
            "Training 21: 100%|██████████| 795/795 [01:51<00:00,  7.12it/s]\n",
            "Evaluating: 100%|██████████| 100/100 [00:05<00:00, 17.85it/s]\n"
          ]
        },
        {
          "output_type": "stream",
          "name": "stdout",
          "text": [
            "Model saved to best_model.pt\n",
            "Epoch: 21 | Time: 1m 57s\n",
            "\tTrain Loss: 1.026 | Train PPL:   2.789\n",
            "\t Val. Loss: 0.985 |  Val. PPL:   2.678\n"
          ]
        },
        {
          "output_type": "stream",
          "name": "stderr",
          "text": [
            "Training 22: 100%|██████████| 795/795 [01:51<00:00,  7.11it/s]\n",
            "Evaluating: 100%|██████████| 100/100 [00:06<00:00, 16.45it/s]\n"
          ]
        },
        {
          "output_type": "stream",
          "name": "stdout",
          "text": [
            "Model saved to best_model.pt\n",
            "Epoch: 22 | Time: 1m 57s\n",
            "\tTrain Loss: 0.998 | Train PPL:   2.714\n",
            "\t Val. Loss: 0.970 |  Val. PPL:   2.638\n"
          ]
        },
        {
          "output_type": "stream",
          "name": "stderr",
          "text": [
            "Training 23: 100%|██████████| 795/795 [01:51<00:00,  7.13it/s]\n",
            "Evaluating: 100%|██████████| 100/100 [00:05<00:00, 17.77it/s]\n"
          ]
        },
        {
          "output_type": "stream",
          "name": "stdout",
          "text": [
            "Model saved to best_model.pt\n",
            "Epoch: 23 | Time: 1m 57s\n",
            "\tTrain Loss: 0.975 | Train PPL:   2.652\n",
            "\t Val. Loss: 0.955 |  Val. PPL:   2.598\n"
          ]
        },
        {
          "output_type": "stream",
          "name": "stderr",
          "text": [
            "Training 24: 100%|██████████| 795/795 [01:51<00:00,  7.13it/s]\n",
            "Evaluating: 100%|██████████| 100/100 [00:05<00:00, 17.35it/s]\n"
          ]
        },
        {
          "output_type": "stream",
          "name": "stdout",
          "text": [
            "Model saved to best_model.pt\n",
            "Epoch: 24 | Time: 1m 57s\n",
            "\tTrain Loss: 0.954 | Train PPL:   2.597\n",
            "\t Val. Loss: 0.941 |  Val. PPL:   2.562\n"
          ]
        },
        {
          "output_type": "stream",
          "name": "stderr",
          "text": [
            "Training 25: 100%|██████████| 795/795 [01:51<00:00,  7.13it/s]\n",
            "Evaluating: 100%|██████████| 100/100 [00:05<00:00, 16.84it/s]\n"
          ]
        },
        {
          "output_type": "stream",
          "name": "stdout",
          "text": [
            "Model saved to best_model.pt\n",
            "Epoch: 25 | Time: 1m 57s\n",
            "\tTrain Loss: 0.932 | Train PPL:   2.539\n",
            "\t Val. Loss: 0.926 |  Val. PPL:   2.524\n",
            "Model saved to best_model.pt\n"
          ]
        }
      ],
      "source": [
        "# Hàm huấn luyện qua nhiều epoch\n",
        "def train(model, criterion, train_dataloader, valid_dataloader, optimizer, num_epochs, clip):\n",
        "    \"\"\"\n",
        "    Hàm huấn luyện và đánh giá mô hình qua nhiều epoch.\n",
        "    \"\"\"\n",
        "    best_valid_loss = float('inf')  # Khởi tạo loss tốt nhất là vô cực\n",
        "    train_losses = []  # Danh sách lưu train loss\n",
        "    val_losses = []  # Danh sách lưu validation loss\n",
        "\n",
        "    for epoch in range(num_epochs):\n",
        "        start_time = time.time()  # Bắt đầu đo thời gian\n",
        "\n",
        "        # Huấn luyện mô hình trong một epoch\n",
        "        train_loss = train_epoch(model, train_dataloader, optimizer, criterion, clip, epoch)\n",
        "        train_losses.append(train_loss)  # Lưu train loss\n",
        "\n",
        "        # Đánh giá mô hình sau một epoch\n",
        "        valid_loss = evaluate(model, valid_dataloader, criterion)\n",
        "        val_losses.append(valid_loss)  # Lưu validation loss\n",
        "\n",
        "        end_time = time.time()  # Kết thúc đo thời gian\n",
        "\n",
        "        # Tính thời gian của epoch\n",
        "        epoch_mins, epoch_secs = epoch_time(start_time, end_time)\n",
        "\n",
        "        # Lưu mô hình nếu có loss tốt nhất\n",
        "        if valid_loss < best_valid_loss:\n",
        "            best_valid_loss = valid_loss\n",
        "            save_model(model)\n",
        "\n",
        "        # In kết quả của epoch\n",
        "        print(f'Epoch: {epoch+1:02} | Time: {epoch_mins}m {epoch_secs}s')\n",
        "        print(f'\\tTrain Loss: {train_loss:.3f} | Train PPL: {math.exp(train_loss):7.3f}')\n",
        "        print(f'\\t Val. Loss: {valid_loss:.3f} |  Val. PPL: {math.exp(valid_loss):7.3f}')\n",
        "\n",
        "    return train_losses, val_losses\n",
        "\n",
        "\n",
        "def epoch_time(start_time, end_time):\n",
        "    \"\"\"\n",
        "    Tính thời gian chạy của một epoch.\n",
        "    \"\"\"\n",
        "    elapsed_time = end_time - start_time\n",
        "    elapsed_mins = int(elapsed_time / 60)\n",
        "    elapsed_secs = int(elapsed_time % 60)\n",
        "    return elapsed_mins, elapsed_secs\n",
        "\n",
        "\n",
        "def save_model(model, file_path=\"best_model.pt\"):\n",
        "    \"\"\"\n",
        "    Lưu trạng thái mô hình xuống file.\n",
        "    \"\"\"\n",
        "    torch.save(model.state_dict(), file_path)\n",
        "    print(f\"Model saved to {file_path}\")\n",
        "\n",
        "# Chuyển encoder và decoder sang thiết bị\n",
        "encoder = Encoder(\n",
        "    input_dim=len(src_vocab),\n",
        "    emb_dim=CONF['embed_size'],\n",
        "    hid_dim=CONF['hidden_size'],\n",
        "    n_layers=CONF['encoder_layers'],\n",
        "    kernel_size=CONF['kernel_size'],\n",
        "    dropout=CONF['dropout'],\n",
        "    device=DEVICE,\n",
        "    max_length=CONF['max_length'],\n",
        ").to(DEVICE)\n",
        "\n",
        "decoder = Decoder(\n",
        "    output_dim=len(tgt_vocab),\n",
        "    emb_dim=CONF['embed_size'],\n",
        "    hid_dim=CONF['hidden_size'],\n",
        "    n_layers=CONF['decoder_layers'],\n",
        "    kernel_size=CONF['kernel_size'],\n",
        "    dropout=CONF['dropout'],\n",
        "    tgt_pad_idx=CONF[\"special_tokens\"][CONF['pad_token']],\n",
        "    device=DEVICE,\n",
        "    max_length=CONF['max_length'],\n",
        ").to(DEVICE)\n",
        "\n",
        "# Khởi tạo mô hình Seq2Seq và chuyển sang thiết bị\n",
        "model = Seq2Seq(encoder, decoder).to(DEVICE)\n",
        "\n",
        "# In ra thiết bị để kiểm tra\n",
        "print(\"Model is on device:\", next(model.parameters()).device)\n",
        "\n",
        "# Hàm tính số lượng tham số có thể huấn luyện của mô hình\n",
        "def count_trainable_params(model):\n",
        "    return sum(p.numel() for p in model.parameters() if p.requires_grad)\n",
        "\n",
        "# Sau đó, gọi hàm này để in số lượng tham số huấn luyện\n",
        "trainable_params = count_trainable_params(model)\n",
        "print(f\"Trainable parameters: {trainable_params}\")\n",
        "\n",
        "optimizer = torch.optim.Adam(model.parameters(), lr=1e-4)\n",
        "criterion = torch.nn.CrossEntropyLoss(ignore_index=CONF[\"special_tokens\"][CONF['pad_token']])\n",
        "\n",
        "clip = CONF[\"clip\"]  # Lấy giá trị clip từ cấu hình\n",
        "train_losses, val_losses = train(model, criterion, train_dataloader, valid_dataloader, optimizer, CONF[\"epochs\"], clip)\n",
        "\n",
        "# Lưu mô hình tốt nhất\n",
        "save_model(model)\n"
      ]
    },
    {
      "cell_type": "markdown",
      "metadata": {
        "id": "XDiNBkcacyDQ"
      },
      "source": [
        "**Phần 8: Lưu và Tải Mô Hình**"
      ]
    },
    {
      "cell_type": "code",
      "execution_count": null,
      "metadata": {
        "execution": {
          "iopub.execute_input": "2024-12-11T19:34:23.398599Z",
          "iopub.status.busy": "2024-12-11T19:34:23.398228Z",
          "iopub.status.idle": "2024-12-11T19:34:23.567627Z",
          "shell.execute_reply": "2024-12-11T19:34:23.566760Z",
          "shell.execute_reply.started": "2024-12-11T19:34:23.398560Z"
        },
        "id": "1rK8pXeadMig",
        "trusted": true,
        "colab": {
          "base_uri": "https://localhost:8080/"
        },
        "outputId": "2c31e368-3e19-4a84-96aa-534a25f92f5c"
      },
      "outputs": [
        {
          "output_type": "stream",
          "name": "stdout",
          "text": [
            "Model saved to bestmodel.pt!\n",
            "Model loaded from bestmodel.pt!\n"
          ]
        }
      ],
      "source": [
        "# Hàm lưu mô hình\n",
        "def save_model(model, path=\"bestmodel.pt\"):\n",
        "    \"\"\"\n",
        "    Lưu trạng thái của mô hình vào file.\n",
        "    Args:\n",
        "        model: Mô hình cần lưu.\n",
        "        path: Đường dẫn file lưu trạng thái mô hình.\n",
        "    \"\"\"\n",
        "    torch.save(model.state_dict(), path)\n",
        "    print(f\"Model saved to {path}!\")\n",
        "\n",
        "# Hàm tải mô hình đã lưu\n",
        "def load_model(model, path=\"bestmodel.pt\"):\n",
        "    \"\"\"\n",
        "    Tải trạng thái mô hình từ file đã lưu.\n",
        "    Args:\n",
        "        model: Mô hình cần tải lại trạng thái.\n",
        "        path: Đường dẫn file chứa trạng thái mô hình.\n",
        "    Returns:\n",
        "        model: Mô hình đã được tải trạng thái.\n",
        "    \"\"\"\n",
        "    model.load_state_dict(torch.load(path))\n",
        "    model.eval()  # Chuyển mô hình sang chế độ đánh giá\n",
        "    print(f\"Model loaded from {path}!\")\n",
        "    return model\n",
        "\n",
        "# Lưu mô hình sau khi huấn luyện\n",
        "save_model(model)\n",
        "\n",
        "# Tải lại mô hình đã lưu\n",
        "loaded_model = Seq2Seq(encoder, decoder).to(DEVICE)  # Khởi tạo lại mô hình\n",
        "loaded_model = load_model(loaded_model)\n"
      ]
    },
    {
      "cell_type": "code",
      "execution_count": null,
      "metadata": {
        "execution": {
          "iopub.execute_input": "2024-12-11T19:34:23.569717Z",
          "iopub.status.busy": "2024-12-11T19:34:23.568915Z",
          "iopub.status.idle": "2024-12-11T19:34:23.624145Z",
          "shell.execute_reply": "2024-12-11T19:34:23.623354Z",
          "shell.execute_reply.started": "2024-12-11T19:34:23.569661Z"
        },
        "id": "bZMvAe45dRgW",
        "trusted": true,
        "colab": {
          "base_uri": "https://localhost:8080/"
        },
        "outputId": "b476b0a3-bca5-44a6-da13-2e14bfbb86dc"
      },
      "outputs": [
        {
          "output_type": "stream",
          "name": "stdout",
          "text": [
            "Source: is anything up ?\n",
            "Target: có chuyện gì thế\n",
            "Prediction: có gì gì không không ? ? ? ? ? ? ? ? ? ? ? ? ? ?\n",
            "--------------------------------------------------\n",
            "Source: it might be expensive .\n",
            "Target: nó có thể đắt\n",
            "Prediction: nó có thể đắt . . . . . . . . . . . . . . .\n",
            "--------------------------------------------------\n",
            "Source: what i did was wrong .\n",
            "Target: những gì tôi đã làm là sai .\n",
            "Prediction: những gì tôi đã làm là sai . . . . . . . . . . . . .\n",
            "--------------------------------------------------\n"
          ]
        }
      ],
      "source": [
        "import random\n",
        "\n",
        "# Lấy 3 câu ngẫu nhiên từ dataloader\n",
        "num_sentences_to_print = 3\n",
        "\n",
        "# Chuyển dataloader thành danh sách để lấy ngẫu nhiên\n",
        "test_samples = list(test_dataloader)\n",
        "random_samples = random.sample(test_samples, num_sentences_to_print)\n",
        "\n",
        "with torch.no_grad():\n",
        "    for src, tgt in random_samples:\n",
        "        src = src.to(DEVICE)\n",
        "        tgt = tgt.to(DEVICE)\n",
        "        output, _ = loaded_model(src, tgt[:, :-1])\n",
        "        pred = output.argmax(-1)\n",
        "\n",
        "        # Loại bỏ token <pad>, <unk>, <s>, </s>\n",
        "        remove_tokens = {\"<pad>\", \"<unk>\", \"<s>\", \"</s>\"}\n",
        "        src_sentence = \" \".join([src_vocab.lookup_token(idx) for idx in src[0].tolist() if src_vocab.lookup_token(idx) not in remove_tokens])\n",
        "        tgt_sentence = \" \".join([tgt_vocab.lookup_token(idx) for idx in tgt[0].tolist() if tgt_vocab.lookup_token(idx) not in remove_tokens])\n",
        "        pred_sentence = \" \".join([tgt_vocab.lookup_token(idx) for idx in pred[0].tolist() if tgt_vocab.lookup_token(idx) not in remove_tokens])\n",
        "\n",
        "        # Hiển thị kết quả\n",
        "        print(f\"Source: {src_sentence}\")\n",
        "        print(f\"Target: {tgt_sentence}\")\n",
        "        print(f\"Prediction: {pred_sentence}\")\n",
        "        print(\"-\" * 50)\n"
      ]
    },
    {
      "cell_type": "markdown",
      "metadata": {
        "id": "dS1fcMjaeR8I"
      },
      "source": [
        "**Phần 9: Bleu Bleu Bleu**"
      ]
    },
    {
      "cell_type": "code",
      "execution_count": null,
      "metadata": {
        "execution": {
          "iopub.execute_input": "2024-12-11T19:34:23.625855Z",
          "iopub.status.busy": "2024-12-11T19:34:23.625265Z",
          "iopub.status.idle": "2024-12-11T19:34:23.820781Z",
          "shell.execute_reply": "2024-12-11T19:34:23.819997Z",
          "shell.execute_reply.started": "2024-12-11T19:34:23.625820Z"
        },
        "id": "dcsF2UD5enVu",
        "trusted": true,
        "colab": {
          "base_uri": "https://localhost:8080/"
        },
        "outputId": "ea777109-9f06-4150-a85f-cbbd79f7c12f"
      },
      "outputs": [
        {
          "output_type": "display_data",
          "data": {
            "text/plain": [
              "<Figure size 1000x600 with 1 Axes>"
            ],
            "image/png": "[encoded data removed]"
          },
          "metadata": {}
        }
      ],
      "source": [
        "import matplotlib.pyplot as plt\n",
        "\n",
        "def plot_loss(train_losses, val_losses):\n",
        "    epochs = range(1, len(train_losses) + 1)\n",
        "    plt.figure(figsize=(10, 6))\n",
        "    plt.plot(epochs, train_losses, marker='o', label='Train Loss')\n",
        "    plt.plot(epochs, val_losses, marker='o', label='Validation Loss')\n",
        "    plt.xlabel('Epochs')\n",
        "    plt.ylabel('Loss')\n",
        "    plt.title('Training and Validation Loss')\n",
        "    plt.legend()\n",
        "    plt.grid(True)\n",
        "    plt.show()\n",
        "\n",
        "plot_loss(train_losses, val_losses)\n"
      ]
    },
    {
      "cell_type": "code",
      "execution_count": null,
      "metadata": {
        "execution": {
          "iopub.execute_input": "2024-12-11T19:34:23.822422Z",
          "iopub.status.busy": "2024-12-11T19:34:23.822069Z",
          "iopub.status.idle": "2024-12-11T19:34:33.982586Z",
          "shell.execute_reply": "2024-12-11T19:34:33.981638Z",
          "shell.execute_reply.started": "2024-12-11T19:34:23.822382Z"
        },
        "id": "na9BCHb1eviY",
        "trusted": true,
        "colab": {
          "base_uri": "https://localhost:8080/"
        },
        "outputId": "e924b649-84ff-4ab0-a515-f107f38142f4"
      },
      "outputs": [
        {
          "output_type": "stream",
          "name": "stdout",
          "text": [
            "Average BLEU Score: 0.3479\n",
            "Average Loss: 0.9150\n",
            "Details saved to evaluation_results.txt!\n"
          ]
        }
      ],
      "source": [
        "from nltk.translate.bleu_score import sentence_bleu, SmoothingFunction\n",
        "import torch\n",
        "import torch.nn.functional as F\n",
        "\n",
        "def calculate_bleu_and_loss(model, dataloader, src_vocab, tgt_vocab, loss_fn, output_file=\"evaluation_results.txt\"):\n",
        "    model.eval()\n",
        "    total_bleu = 0\n",
        "    total_loss = 0\n",
        "    num_samples = 0\n",
        "    smooth_fn = SmoothingFunction().method1\n",
        "    results = []\n",
        "\n",
        "    with torch.no_grad():\n",
        "        for src, tgt in dataloader:\n",
        "            src = src.to(DEVICE)\n",
        "            tgt = tgt.to(DEVICE)\n",
        "\n",
        "            # Forward pass\n",
        "            output, _ = model(src, tgt[:, :-1])  # tgt[:, :-1] excludes the last token (</s>)\n",
        "            pred = output.argmax(-1)\n",
        "\n",
        "            # Calculate loss\n",
        "            loss = loss_fn(output.view(-1, output.size(-1)), tgt[:, 1:].contiguous().view(-1))  # tgt[:, 1:] excludes the <s> token\n",
        "            total_loss += loss.item()\n",
        "\n",
        "            # Convert tensors to sentences\n",
        "            pred_sentences = [\n",
        "                [tgt_vocab.lookup_token(idx) for idx in pred[i].tolist() if tgt_vocab.lookup_token(idx) not in {\"<pad>\", \"<s>\", \"</s>\", \"<unk>\"}]\n",
        "                for i in range(pred.size(0))\n",
        "            ]\n",
        "            tgt_sentences = [\n",
        "                [tgt_vocab.lookup_token(idx) for idx in tgt[i].tolist() if tgt_vocab.lookup_token(idx) not in {\"<pad>\", \"<s>\", \"</s>\", \"<unk>\"}]\n",
        "                for i in range(tgt.size(0))\n",
        "            ]\n",
        "            src_sentences = [\n",
        "                [src_vocab.lookup_token(idx) for idx in src[i].tolist() if src_vocab.lookup_token(idx) not in {\"<pad>\", \"<s>\", \"</s>\", \"<unk>\"}]\n",
        "                for i in range(src.size(0))\n",
        "            ]\n",
        "\n",
        "            # Calculate BLEU score for each sentence\n",
        "            for src_sentence, pred_sentence, tgt_sentence in zip(src_sentences, pred_sentences, tgt_sentences):\n",
        "                bleu = sentence_bleu([tgt_sentence], pred_sentence, smoothing_function=smooth_fn)\n",
        "                total_bleu += bleu\n",
        "                num_samples += 1\n",
        "\n",
        "                # Record results\n",
        "                results.append({\n",
        "                    \"Source\": \" \".join(src_sentence),\n",
        "                    \"Target\": \" \".join(tgt_sentence),\n",
        "                    \"Prediction\": \" \".join(pred_sentence),\n",
        "                    \"BLEU\": bleu\n",
        "                })\n",
        "\n",
        "    # Write results to file\n",
        "    with open(output_file, \"w\", encoding=\"utf-8\") as f:\n",
        "        for result in results:\n",
        "            f.write(f\"Source: {result['Source']}\\n\")\n",
        "            f.write(f\"Target: {result['Target']}\\n\")\n",
        "            f.write(f\"Prediction: {result['Prediction']}\\n\")\n",
        "            f.write(f\"BLEU Score: {result['BLEU']:.4f}\\n\")\n",
        "            f.write(\"=\"*50 + \"\\n\")\n",
        "\n",
        "    avg_bleu = total_bleu / num_samples if num_samples > 0 else 0\n",
        "    avg_loss = total_loss / len(dataloader) if len(dataloader) > 0 else 0\n",
        "    print(f\"Average BLEU Score: {avg_bleu:.4f}\")\n",
        "    print(f\"Average Loss: {avg_loss:.4f}\")\n",
        "    print(f\"Details saved to {output_file}!\")\n",
        "\n",
        "    return avg_bleu, avg_loss\n",
        "\n",
        "# Example usage\n",
        "loss_function = torch.nn.CrossEntropyLoss(ignore_index=src_vocab[\"<pad>\"])\n",
        "bleu_score, avg_loss = calculate_bleu_and_loss(loaded_model, test_dataloader, src_vocab, tgt_vocab, loss_function)\n"
      ]
    }
  ],
  "metadata": {
    "accelerator": "GPU",
    "colab": {
      "gpuType": "T4",
      "provenance": [],
      "include_colab_link": true
    },
    "kaggle": {
      "accelerator": "gpu",
      "dataSources": [],
      "dockerImageVersionId": 30805,
      "isGpuEnabled": true,
      "isInternetEnabled": true,
      "language": "python",
      "sourceType": "notebook"
    },
    "kernelspec": {
      "display_name": "Python 3",
      "name": "python3"
    },
    "language_info": {
      "codemirror_mode": {
        "name": "ipython",
        "version": 3
      },
      "file_extension": ".py",
      "mimetype": "text/x-python",
      "name": "python",
      "nbconvert_exporter": "python",
      "pygments_lexer": "ipython3",
      "version": "3.10.14"
    },
    "widgets": {
      "application/vnd.jupyter.widget-state+json": {
        "fd4dcb6ac48c4f50839a41777824e3e8": {
          "model_module": "@jupyter-widgets/controls",
          "model_name": "HBoxModel",
          "model_module_version": "1.5.0",
          "state": {
            "_dom_classes": [],
            "_model_module": "@jupyter-widgets/controls",
            "_model_module_version": "1.5.0",
            "_model_name": "HBoxModel",
            "_view_count": null,
            "_view_module": "@jupyter-widgets/controls",
            "_view_module_version": "1.5.0",
            "_view_name": "HBoxView",
            "box_style": "",
            "children": [
              "IPY_MODEL_7933f44e768e4eaba205cd6bc4fc138b",
              "IPY_MODEL_110ac1d8e08d48c2a101a712d371342c",
              "IPY_MODEL_6d086e3ee78741da87eb2e61a56e9bea"
            ],
            "layout": "IPY_MODEL_a31ceea04bfc41b99644c0a2783254e3"
          }
        },
        "7933f44e768e4eaba205cd6bc4fc138b": {
          "model_module": "@jupyter-widgets/controls",
          "model_name": "HTMLModel",
          "model_module_version": "1.5.0",
          "state": {
            "_dom_classes": [],
            "_model_module": "@jupyter-widgets/controls",
            "_model_module_version": "1.5.0",
            "_model_name": "HTMLModel",
            "_view_count": null,
            "_view_module": "@jupyter-widgets/controls",
            "_view_module_version": "1.5.0",
            "_view_name": "HTMLView",
            "description": "",
            "description_tooltip": null,
            "layout": "IPY_MODEL_190cd6a0f030426f89b4f3f19c624ee0",
            "placeholder": "​",
            "style": "IPY_MODEL_e155303d2ce74b76979e3a6d5f3fdab0",
            "value": "README.md: 100%"
          }
        },
        "110ac1d8e08d48c2a101a712d371342c": {
          "model_module": "@jupyter-widgets/controls",
          "model_name": "FloatProgressModel",
          "model_module_version": "1.5.0",
          "state": {
            "_dom_classes": [],
            "_model_module": "@jupyter-widgets/controls",
            "_model_module_version": "1.5.0",
            "_model_name": "FloatProgressModel",
            "_view_count": null,
            "_view_module": "@jupyter-widgets/controls",
            "_view_module_version": "1.5.0",
            "_view_name": "ProgressView",
            "bar_style": "success",
            "description": "",
            "description_tooltip": null,
            "layout": "IPY_MODEL_d730e069c71b4acc891ebdde177d2ec3",
            "max": 665,
            "min": 0,
            "orientation": "horizontal",
            "style": "IPY_MODEL_5a3b4b17815948868a6a6ba6912294e8",
            "value": 665
          }
        },
        "6d086e3ee78741da87eb2e61a56e9bea": {
          "model_module": "@jupyter-widgets/controls",
          "model_name": "HTMLModel",
          "model_module_version": "1.5.0",
          "state": {
            "_dom_classes": [],
            "_model_module": "@jupyter-widgets/controls",
            "_model_module_version": "1.5.0",
            "_model_name": "HTMLModel",
            "_view_count": null,
            "_view_module": "@jupyter-widgets/controls",
            "_view_module_version": "1.5.0",
            "_view_name": "HTMLView",
            "description": "",
            "description_tooltip": null,
            "layout": "IPY_MODEL_c2f68ea605774f40ab96c2ea574168ab",
            "placeholder": "​",
            "style": "IPY_MODEL_f7a75a79f5d84d45ae99823d11df5757",
            "value": " 665/665 [00:00&lt;00:00, 9.08kB/s]"
          }
        },
        "a31ceea04bfc41b99644c0a2783254e3": {
          "model_module": "@jupyter-widgets/base",
          "model_name": "LayoutModel",
          "model_module_version": "1.2.0",
          "state": {
            "_model_module": "@jupyter-widgets/base",
            "_model_module_version": "1.2.0",
            "_model_name": "LayoutModel",
            "_view_count": null,
            "_view_module": "@jupyter-widgets/base",
            "_view_module_version": "1.2.0",
            "_view_name": "LayoutView",
            "align_content": null,
            "align_items": null,
            "align_self": null,
            "border": null,
            "bottom": null,
            "display": null,
            "flex": null,
            "flex_flow": null,
            "grid_area": null,
            "grid_auto_columns": null,
            "grid_auto_flow": null,
            "grid_auto_rows": null,
            "grid_column": null,
            "grid_gap": null,
            "grid_row": null,
            "grid_template_areas": null,
            "grid_template_columns": null,
            "grid_template_rows": null,
            "height": null,
            "justify_content": null,
            "justify_items": null,
            "left": null,
            "margin": null,
            "max_height": null,
            "max_width": null,
            "min_height": null,
            "min_width": null,
            "object_fit": null,
            "object_position": null,
            "order": null,
            "overflow": null,
            "overflow_x": null,
            "overflow_y": null,
            "padding": null,
            "right": null,
            "top": null,
            "visibility": null,
            "width": null
          }
        },
        "190cd6a0f030426f89b4f3f19c624ee0": {
          "model_module": "@jupyter-widgets/base",
          "model_name": "LayoutModel",
          "model_module_version": "1.2.0",
          "state": {
            "_model_module": "@jupyter-widgets/base",
            "_model_module_version": "1.2.0",
            "_model_name": "LayoutModel",
            "_view_count": null,
            "_view_module": "@jupyter-widgets/base",
            "_view_module_version": "1.2.0",
            "_view_name": "LayoutView",
            "align_content": null,
            "align_items": null,
            "align_self": null,
            "border": null,
            "bottom": null,
            "display": null,
            "flex": null,
            "flex_flow": null,
            "grid_area": null,
            "grid_auto_columns": null,
            "grid_auto_flow": null,
            "grid_auto_rows": null,
            "grid_column": null,
            "grid_gap": null,
            "grid_row": null,
            "grid_template_areas": null,
            "grid_template_columns": null,
            "grid_template_rows": null,
            "height": null,
            "justify_content": null,
            "justify_items": null,
            "left": null,
            "margin": null,
            "max_height": null,
            "max_width": null,
            "min_height": null,
            "min_width": null,
            "object_fit": null,
            "object_position": null,
            "order": null,
            "overflow": null,
            "overflow_x": null,
            "overflow_y": null,
            "padding": null,
            "right": null,
            "top": null,
            "visibility": null,
            "width": null
          }
        },
        "e155303d2ce74b76979e3a6d5f3fdab0": {
          "model_module": "@jupyter-widgets/controls",
          "model_name": "DescriptionStyleModel",
          "model_module_version": "1.5.0",
          "state": {
            "_model_module": "@jupyter-widgets/controls",
            "_model_module_version": "1.5.0",
            "_model_name": "DescriptionStyleModel",
            "_view_count": null,
            "_view_module": "@jupyter-widgets/base",
            "_view_module_version": "1.2.0",
            "_view_name": "StyleView",
            "description_width": ""
          }
        },
        "d730e069c71b4acc891ebdde177d2ec3": {
          "model_module": "@jupyter-widgets/base",
          "model_name": "LayoutModel",
          "model_module_version": "1.2.0",
          "state": {
            "_model_module": "@jupyter-widgets/base",
            "_model_module_version": "1.2.0",
            "_model_name": "LayoutModel",
            "_view_count": null,
            "_view_module": "@jupyter-widgets/base",
            "_view_module_version": "1.2.0",
            "_view_name": "LayoutView",
            "align_content": null,
            "align_items": null,
            "align_self": null,
            "border": null,
            "bottom": null,
            "display": null,
            "flex": null,
            "flex_flow": null,
            "grid_area": null,
            "grid_auto_columns": null,
            "grid_auto_flow": null,
            "grid_auto_rows": null,
            "grid_column": null,
            "grid_gap": null,
            "grid_row": null,
            "grid_template_areas": null,
            "grid_template_columns": null,
            "grid_template_rows": null,
            "height": null,
            "justify_content": null,
            "justify_items": null,
            "left": null,
            "margin": null,
            "max_height": null,
            "max_width": null,
            "min_height": null,
            "min_width": null,
            "object_fit": null,
            "object_position": null,
            "order": null,
            "overflow": null,
            "overflow_x": null,
            "overflow_y": null,
            "padding": null,
            "right": null,
            "top": null,
            "visibility": null,
            "width": null
          }
        },
        "5a3b4b17815948868a6a6ba6912294e8": {
          "model_module": "@jupyter-widgets/controls",
          "model_name": "ProgressStyleModel",
          "model_module_version": "1.5.0",
          "state": {
            "_model_module": "@jupyter-widgets/controls",
            "_model_module_version": "1.5.0",
            "_model_name": "ProgressStyleModel",
            "_view_count": null,
            "_view_module": "@jupyter-widgets/base",
            "_view_module_version": "1.2.0",
            "_view_name": "StyleView",
            "bar_color": null,
            "description_width": ""
          }
        },
        "c2f68ea605774f40ab96c2ea574168ab": {
          "model_module": "@jupyter-widgets/base",
          "model_name": "LayoutModel",
          "model_module_version": "1.2.0",
          "state": {
            "_model_module": "@jupyter-widgets/base",
            "_model_module_version": "1.2.0",
            "_model_name": "LayoutModel",
            "_view_count": null,
            "_view_module": "@jupyter-widgets/base",
            "_view_module_version": "1.2.0",
            "_view_name": "LayoutView",
            "align_content": null,
            "align_items": null,
            "align_self": null,
            "border": null,
            "bottom": null,
            "display": null,
            "flex": null,
            "flex_flow": null,
            "grid_area": null,
            "grid_auto_columns": null,
            "grid_auto_flow": null,
            "grid_auto_rows": null,
            "grid_column": null,
            "grid_gap": null,
            "grid_row": null,
            "grid_template_areas": null,
            "grid_template_columns": null,
            "grid_template_rows": null,
            "height": null,
            "justify_content": null,
            "justify_items": null,
            "left": null,
            "margin": null,
            "max_height": null,
            "max_width": null,
            "min_height": null,
            "min_width": null,
            "object_fit": null,
            "object_position": null,
            "order": null,
            "overflow": null,
            "overflow_x": null,
            "overflow_y": null,
            "padding": null,
            "right": null,
            "top": null,
            "visibility": null,
            "width": null
          }
        },
        "f7a75a79f5d84d45ae99823d11df5757": {
          "model_module": "@jupyter-widgets/controls",
          "model_name": "DescriptionStyleModel",
          "model_module_version": "1.5.0",
          "state": {
            "_model_module": "@jupyter-widgets/controls",
            "_model_module_version": "1.5.0",
            "_model_name": "DescriptionStyleModel",
            "_view_count": null,
            "_view_module": "@jupyter-widgets/base",
            "_view_module_version": "1.2.0",
            "_view_name": "StyleView",
            "description_width": ""
          }
        },
        "85963e0c6c274f74a6433a3316bb4140": {
          "model_module": "@jupyter-widgets/controls",
          "model_name": "HBoxModel",
          "model_module_version": "1.5.0",
          "state": {
            "_dom_classes": [],
            "_model_module": "@jupyter-widgets/controls",
            "_model_module_version": "1.5.0",
            "_model_name": "HBoxModel",
            "_view_count": null,
            "_view_module": "@jupyter-widgets/controls",
            "_view_module_version": "1.5.0",
            "_view_name": "HBoxView",
            "box_style": "",
            "children": [
              "IPY_MODEL_26dbe72616234ac08e7d18eb5b23ad39",
              "IPY_MODEL_4829c0d768de49caaccb14426f372234",
              "IPY_MODEL_d5963b67e02f4d85a8f48fd9f9265e7c"
            ],
            "layout": "IPY_MODEL_5f3ad099abb949f9a70242fcc67a60ff"
          }
        },
        "26dbe72616234ac08e7d18eb5b23ad39": {
          "model_module": "@jupyter-widgets/controls",
          "model_name": "HTMLModel",
          "model_module_version": "1.5.0",
          "state": {
            "_dom_classes": [],
            "_model_module": "@jupyter-widgets/controls",
            "_model_module_version": "1.5.0",
            "_model_name": "HTMLModel",
            "_view_count": null,
            "_view_module": "@jupyter-widgets/controls",
            "_view_module_version": "1.5.0",
            "_view_name": "HTMLView",
            "description": "",
            "description_tooltip": null,
            "layout": "IPY_MODEL_52da4d662c884c9aa4bf54e443d985f4",
            "placeholder": "​",
            "style": "IPY_MODEL_3d00b5440e0d4e399694f4f183f03cfe",
            "value": "(…)-00000-of-00001-8fc21cb8e80d3a2d.parquet: 100%"
          }
        },
        "4829c0d768de49caaccb14426f372234": {
          "model_module": "@jupyter-widgets/controls",
          "model_name": "FloatProgressModel",
          "model_module_version": "1.5.0",
          "state": {
            "_dom_classes": [],
            "_model_module": "@jupyter-widgets/controls",
            "_model_module_version": "1.5.0",
            "_model_name": "FloatProgressModel",
            "_view_count": null,
            "_view_module": "@jupyter-widgets/controls",
            "_view_module_version": "1.5.0",
            "_view_name": "ProgressView",
            "bar_style": "success",
            "description": "",
            "description_tooltip": null,
            "layout": "IPY_MODEL_f07acb2c403540c18fe6b0225266bd1a",
            "max": 11344624,
            "min": 0,
            "orientation": "horizontal",
            "style": "IPY_MODEL_3727a7bfe76842fd99d7350a7dec2362",
            "value": 11344624
          }
        },
        "d5963b67e02f4d85a8f48fd9f9265e7c": {
          "model_module": "@jupyter-widgets/controls",
          "model_name": "HTMLModel",
          "model_module_version": "1.5.0",
          "state": {
            "_dom_classes": [],
            "_model_module": "@jupyter-widgets/controls",
            "_model_module_version": "1.5.0",
            "_model_name": "HTMLModel",
            "_view_count": null,
            "_view_module": "@jupyter-widgets/controls",
            "_view_module_version": "1.5.0",
            "_view_name": "HTMLView",
            "description": "",
            "description_tooltip": null,
            "layout": "IPY_MODEL_0dbb2ac2398c46629fa65ee1030b9952",
            "placeholder": "​",
            "style": "IPY_MODEL_195a9e04d573472e84234cbcb0c95e78",
            "value": " 11.3M/11.3M [00:00&lt;00:00, 66.2MB/s]"
          }
        },
        "5f3ad099abb949f9a70242fcc67a60ff": {
          "model_module": "@jupyter-widgets/base",
          "model_name": "LayoutModel",
          "model_module_version": "1.2.0",
          "state": {
            "_model_module": "@jupyter-widgets/base",
            "_model_module_version": "1.2.0",
            "_model_name": "LayoutModel",
            "_view_count": null,
            "_view_module": "@jupyter-widgets/base",
            "_view_module_version": "1.2.0",
            "_view_name": "LayoutView",
            "align_content": null,
            "align_items": null,
            "align_self": null,
            "border": null,
            "bottom": null,
            "display": null,
            "flex": null,
            "flex_flow": null,
            "grid_area": null,
            "grid_auto_columns": null,
            "grid_auto_flow": null,
            "grid_auto_rows": null,
            "grid_column": null,
            "grid_gap": null,
            "grid_row": null,
            "grid_template_areas": null,
            "grid_template_columns": null,
            "grid_template_rows": null,
            "height": null,
            "justify_content": null,
            "justify_items": null,
            "left": null,
            "margin": null,
            "max_height": null,
            "max_width": null,
            "min_height": null,
            "min_width": null,
            "object_fit": null,
            "object_position": null,
            "order": null,
            "overflow": null,
            "overflow_x": null,
            "overflow_y": null,
            "padding": null,
            "right": null,
            "top": null,
            "visibility": null,
            "width": null
          }
        },
        "52da4d662c884c9aa4bf54e443d985f4": {
          "model_module": "@jupyter-widgets/base",
          "model_name": "LayoutModel",
          "model_module_version": "1.2.0",
          "state": {
            "_model_module": "@jupyter-widgets/base",
            "_model_module_version": "1.2.0",
            "_model_name": "LayoutModel",
            "_view_count": null,
            "_view_module": "@jupyter-widgets/base",
            "_view_module_version": "1.2.0",
            "_view_name": "LayoutView",
            "align_content": null,
            "align_items": null,
            "align_self": null,
            "border": null,
            "bottom": null,
            "display": null,
            "flex": null,
            "flex_flow": null,
            "grid_area": null,
            "grid_auto_columns": null,
            "grid_auto_flow": null,
            "grid_auto_rows": null,
            "grid_column": null,
            "grid_gap": null,
            "grid_row": null,
            "grid_template_areas": null,
            "grid_template_columns": null,
            "grid_template_rows": null,
            "height": null,
            "justify_content": null,
            "justify_items": null,
            "left": null,
            "margin": null,
            "max_height": null,
            "max_width": null,
            "min_height": null,
            "min_width": null,
            "object_fit": null,
            "object_position": null,
            "order": null,
            "overflow": null,
            "overflow_x": null,
            "overflow_y": null,
            "padding": null,
            "right": null,
            "top": null,
            "visibility": null,
            "width": null
          }
        },
        "3d00b5440e0d4e399694f4f183f03cfe": {
          "model_module": "@jupyter-widgets/controls",
          "model_name": "DescriptionStyleModel",
          "model_module_version": "1.5.0",
          "state": {
            "_model_module": "@jupyter-widgets/controls",
            "_model_module_version": "1.5.0",
            "_model_name": "DescriptionStyleModel",
            "_view_count": null,
            "_view_module": "@jupyter-widgets/base",
            "_view_module_version": "1.2.0",
            "_view_name": "StyleView",
            "description_width": ""
          }
        },
        "f07acb2c403540c18fe6b0225266bd1a": {
          "model_module": "@jupyter-widgets/base",
          "model_name": "LayoutModel",
          "model_module_version": "1.2.0",
          "state": {
            "_model_module": "@jupyter-widgets/base",
            "_model_module_version": "1.2.0",
            "_model_name": "LayoutModel",
            "_view_count": null,
            "_view_module": "@jupyter-widgets/base",
            "_view_module_version": "1.2.0",
            "_view_name": "LayoutView",
            "align_content": null,
            "align_items": null,
            "align_self": null,
            "border": null,
            "bottom": null,
            "display": null,
            "flex": null,
            "flex_flow": null,
            "grid_area": null,
            "grid_auto_columns": null,
            "grid_auto_flow": null,
            "grid_auto_rows": null,
            "grid_column": null,
            "grid_gap": null,
            "grid_row": null,
            "grid_template_areas": null,
            "grid_template_columns": null,
            "grid_template_rows": null,
            "height": null,
            "justify_content": null,
            "justify_items": null,
            "left": null,
            "margin": null,
            "max_height": null,
            "max_width": null,
            "min_height": null,
            "min_width": null,
            "object_fit": null,
            "object_position": null,
            "order": null,
            "overflow": null,
            "overflow_x": null,
            "overflow_y": null,
            "padding": null,
            "right": null,
            "top": null,
            "visibility": null,
            "width": null
          }
        },
        "3727a7bfe76842fd99d7350a7dec2362": {
          "model_module": "@jupyter-widgets/controls",
          "model_name": "ProgressStyleModel",
          "model_module_version": "1.5.0",
          "state": {
            "_model_module": "@jupyter-widgets/controls",
            "_model_module_version": "1.5.0",
            "_model_name": "ProgressStyleModel",
            "_view_count": null,
            "_view_module": "@jupyter-widgets/base",
            "_view_module_version": "1.2.0",
            "_view_name": "StyleView",
            "bar_color": null,
            "description_width": ""
          }
        },
        "0dbb2ac2398c46629fa65ee1030b9952": {
          "model_module": "@jupyter-widgets/base",
          "model_name": "LayoutModel",
          "model_module_version": "1.2.0",
          "state": {
            "_model_module": "@jupyter-widgets/base",
            "_model_module_version": "1.2.0",
            "_model_name": "LayoutModel",
            "_view_count": null,
            "_view_module": "@jupyter-widgets/base",
            "_view_module_version": "1.2.0",
            "_view_name": "LayoutView",
            "align_content": null,
            "align_items": null,
            "align_self": null,
            "border": null,
            "bottom": null,
            "display": null,
            "flex": null,
            "flex_flow": null,
            "grid_area": null,
            "grid_auto_columns": null,
            "grid_auto_flow": null,
            "grid_auto_rows": null,
            "grid_column": null,
            "grid_gap": null,
            "grid_row": null,
            "grid_template_areas": null,
            "grid_template_columns": null,
            "grid_template_rows": null,
            "height": null,
            "justify_content": null,
            "justify_items": null,
            "left": null,
            "margin": null,
            "max_height": null,
            "max_width": null,
            "min_height": null,
            "min_width": null,
            "object_fit": null,
            "object_position": null,
            "order": null,
            "overflow": null,
            "overflow_x": null,
            "overflow_y": null,
            "padding": null,
            "right": null,
            "top": null,
            "visibility": null,
            "width": null
          }
        },
        "195a9e04d573472e84234cbcb0c95e78": {
          "model_module": "@jupyter-widgets/controls",
          "model_name": "DescriptionStyleModel",
          "model_module_version": "1.5.0",
          "state": {
            "_model_module": "@jupyter-widgets/controls",
            "_model_module_version": "1.5.0",
            "_model_name": "DescriptionStyleModel",
            "_view_count": null,
            "_view_module": "@jupyter-widgets/base",
            "_view_module_version": "1.2.0",
            "_view_name": "StyleView",
            "description_width": ""
          }
        },
        "f6caaa10dea344f6b5eca71cd5a009e6": {
          "model_module": "@jupyter-widgets/controls",
          "model_name": "HBoxModel",
          "model_module_version": "1.5.0",
          "state": {
            "_dom_classes": [],
            "_model_module": "@jupyter-widgets/controls",
            "_model_module_version": "1.5.0",
            "_model_name": "HBoxModel",
            "_view_count": null,
            "_view_module": "@jupyter-widgets/controls",
            "_view_module_version": "1.5.0",
            "_view_name": "HBoxView",
            "box_style": "",
            "children": [
              "IPY_MODEL_5383e968298745e98968292c6ea311c0",
              "IPY_MODEL_d867aa74321a42a897f1df01a9a5ad25",
              "IPY_MODEL_422200fc252b4d2baebf22032b5ca2bf"
            ],
            "layout": "IPY_MODEL_483c01344d044b4fabe2e28b1cc91ac6"
          }
        },
        "5383e968298745e98968292c6ea311c0": {
          "model_module": "@jupyter-widgets/controls",
          "model_name": "HTMLModel",
          "model_module_version": "1.5.0",
          "state": {
            "_dom_classes": [],
            "_model_module": "@jupyter-widgets/controls",
            "_model_module_version": "1.5.0",
            "_model_name": "HTMLModel",
            "_view_count": null,
            "_view_module": "@jupyter-widgets/controls",
            "_view_module_version": "1.5.0",
            "_view_name": "HTMLView",
            "description": "",
            "description_tooltip": null,
            "layout": "IPY_MODEL_261c39439a5a4008919039c4a4022d7c",
            "placeholder": "​",
            "style": "IPY_MODEL_654d3d4146df4966bd9fb9a7f94d51d0",
            "value": "(…)-00000-of-00001-858c0e989d9c5637.parquet: 100%"
          }
        },
        "d867aa74321a42a897f1df01a9a5ad25": {
          "model_module": "@jupyter-widgets/controls",
          "model_name": "FloatProgressModel",
          "model_module_version": "1.5.0",
          "state": {
            "_dom_classes": [],
            "_model_module": "@jupyter-widgets/controls",
            "_model_module_version": "1.5.0",
            "_model_name": "FloatProgressModel",
            "_view_count": null,
            "_view_module": "@jupyter-widgets/controls",
            "_view_module_version": "1.5.0",
            "_view_name": "ProgressView",
            "bar_style": "success",
            "description": "",
            "description_tooltip": null,
            "layout": "IPY_MODEL_a28433f312e842fa864cd38ea3aa3de0",
            "max": 1421965,
            "min": 0,
            "orientation": "horizontal",
            "style": "IPY_MODEL_bb7eae2c70f94797acbbbb0d169e8eb9",
            "value": 1421965
          }
        },
        "422200fc252b4d2baebf22032b5ca2bf": {
          "model_module": "@jupyter-widgets/controls",
          "model_name": "HTMLModel",
          "model_module_version": "1.5.0",
          "state": {
            "_dom_classes": [],
            "_model_module": "@jupyter-widgets/controls",
            "_model_module_version": "1.5.0",
            "_model_name": "HTMLModel",
            "_view_count": null,
            "_view_module": "@jupyter-widgets/controls",
            "_view_module_version": "1.5.0",
            "_view_name": "HTMLView",
            "description": "",
            "description_tooltip": null,
            "layout": "IPY_MODEL_11bd6848d04d4ece95e5336041cc6f79",
            "placeholder": "​",
            "style": "IPY_MODEL_1bcbd6c0d78446e0ac776069460a3704",
            "value": " 1.42M/1.42M [00:00&lt;00:00, 26.0MB/s]"
          }
        },
        "483c01344d044b4fabe2e28b1cc91ac6": {
          "model_module": "@jupyter-widgets/base",
          "model_name": "LayoutModel",
          "model_module_version": "1.2.0",
          "state": {
            "_model_module": "@jupyter-widgets/base",
            "_model_module_version": "1.2.0",
            "_model_name": "LayoutModel",
            "_view_count": null,
            "_view_module": "@jupyter-widgets/base",
            "_view_module_version": "1.2.0",
            "_view_name": "LayoutView",
            "align_content": null,
            "align_items": null,
            "align_self": null,
            "border": null,
            "bottom": null,
            "display": null,
            "flex": null,
            "flex_flow": null,
            "grid_area": null,
            "grid_auto_columns": null,
            "grid_auto_flow": null,
            "grid_auto_rows": null,
            "grid_column": null,
            "grid_gap": null,
            "grid_row": null,
            "grid_template_areas": null,
            "grid_template_columns": null,
            "grid_template_rows": null,
            "height": null,
            "justify_content": null,
            "justify_items": null,
            "left": null,
            "margin": null,
            "max_height": null,
            "max_width": null,
            "min_height": null,
            "min_width": null,
            "object_fit": null,
            "object_position": null,
            "order": null,
            "overflow": null,
            "overflow_x": null,
            "overflow_y": null,
            "padding": null,
            "right": null,
            "top": null,
            "visibility": null,
            "width": null
          }
        },
        "261c39439a5a4008919039c4a4022d7c": {
          "model_module": "@jupyter-widgets/base",
          "model_name": "LayoutModel",
          "model_module_version": "1.2.0",
          "state": {
            "_model_module": "@jupyter-widgets/base",
            "_model_module_version": "1.2.0",
            "_model_name": "LayoutModel",
            "_view_count": null,
            "_view_module": "@jupyter-widgets/base",
            "_view_module_version": "1.2.0",
            "_view_name": "LayoutView",
            "align_content": null,
            "align_items": null,
            "align_self": null,
            "border": null,
            "bottom": null,
            "display": null,
            "flex": null,
            "flex_flow": null,
            "grid_area": null,
            "grid_auto_columns": null,
            "grid_auto_flow": null,
            "grid_auto_rows": null,
            "grid_column": null,
            "grid_gap": null,
            "grid_row": null,
            "grid_template_areas": null,
            "grid_template_columns": null,
            "grid_template_rows": null,
            "height": null,
            "justify_content": null,
            "justify_items": null,
            "left": null,
            "margin": null,
            "max_height": null,
            "max_width": null,
            "min_height": null,
            "min_width": null,
            "object_fit": null,
            "object_position": null,
            "order": null,
            "overflow": null,
            "overflow_x": null,
            "overflow_y": null,
            "padding": null,
            "right": null,
            "top": null,
            "visibility": null,
            "width": null
          }
        },
        "654d3d4146df4966bd9fb9a7f94d51d0": {
          "model_module": "@jupyter-widgets/controls",
          "model_name": "DescriptionStyleModel",
          "model_module_version": "1.5.0",
          "state": {
            "_model_module": "@jupyter-widgets/controls",
            "_model_module_version": "1.5.0",
            "_model_name": "DescriptionStyleModel",
            "_view_count": null,
            "_view_module": "@jupyter-widgets/base",
            "_view_module_version": "1.2.0",
            "_view_name": "StyleView",
            "description_width": ""
          }
        },
        "a28433f312e842fa864cd38ea3aa3de0": {
          "model_module": "@jupyter-widgets/base",
          "model_name": "LayoutModel",
          "model_module_version": "1.2.0",
          "state": {
            "_model_module": "@jupyter-widgets/base",
            "_model_module_version": "1.2.0",
            "_model_name": "LayoutModel",
            "_view_count": null,
            "_view_module": "@jupyter-widgets/base",
            "_view_module_version": "1.2.0",
            "_view_name": "LayoutView",
            "align_content": null,
            "align_items": null,
            "align_self": null,
            "border": null,
            "bottom": null,
            "display": null,
            "flex": null,
            "flex_flow": null,
            "grid_area": null,
            "grid_auto_columns": null,
            "grid_auto_flow": null,
            "grid_auto_rows": null,
            "grid_column": null,
            "grid_gap": null,
            "grid_row": null,
            "grid_template_areas": null,
            "grid_template_columns": null,
            "grid_template_rows": null,
            "height": null,
            "justify_content": null,
            "justify_items": null,
            "left": null,
            "margin": null,
            "max_height": null,
            "max_width": null,
            "min_height": null,
            "min_width": null,
            "object_fit": null,
            "object_position": null,
            "order": null,
            "overflow": null,
            "overflow_x": null,
            "overflow_y": null,
            "padding": null,
            "right": null,
            "top": null,
            "visibility": null,
            "width": null
          }
        },
        "bb7eae2c70f94797acbbbb0d169e8eb9": {
          "model_module": "@jupyter-widgets/controls",
          "model_name": "ProgressStyleModel",
          "model_module_version": "1.5.0",
          "state": {
            "_model_module": "@jupyter-widgets/controls",
            "_model_module_version": "1.5.0",
            "_model_name": "ProgressStyleModel",
            "_view_count": null,
            "_view_module": "@jupyter-widgets/base",
            "_view_module_version": "1.2.0",
            "_view_name": "StyleView",
            "bar_color": null,
            "description_width": ""
          }
        },
        "11bd6848d04d4ece95e5336041cc6f79": {
          "model_module": "@jupyter-widgets/base",
          "model_name": "LayoutModel",
          "model_module_version": "1.2.0",
          "state": {
            "_model_module": "@jupyter-widgets/base",
            "_model_module_version": "1.2.0",
            "_model_name": "LayoutModel",
            "_view_count": null,
            "_view_module": "@jupyter-widgets/base",
            "_view_module_version": "1.2.0",
            "_view_name": "LayoutView",
            "align_content": null,
            "align_items": null,
            "align_self": null,
            "border": null,
            "bottom": null,
            "display": null,
            "flex": null,
            "flex_flow": null,
            "grid_area": null,
            "grid_auto_columns": null,
            "grid_auto_flow": null,
            "grid_auto_rows": null,
            "grid_column": null,
            "grid_gap": null,
            "grid_row": null,
            "grid_template_areas": null,
            "grid_template_columns": null,
            "grid_template_rows": null,
            "height": null,
            "justify_content": null,
            "justify_items": null,
            "left": null,
            "margin": null,
            "max_height": null,
            "max_width": null,
            "min_height": null,
            "min_width": null,
            "object_fit": null,
            "object_position": null,
            "order": null,
            "overflow": null,
            "overflow_x": null,
            "overflow_y": null,
            "padding": null,
            "right": null,
            "top": null,
            "visibility": null,
            "width": null
          }
        },
        "1bcbd6c0d78446e0ac776069460a3704": {
          "model_module": "@jupyter-widgets/controls",
          "model_name": "DescriptionStyleModel",
          "model_module_version": "1.5.0",
          "state": {
            "_model_module": "@jupyter-widgets/controls",
            "_model_module_version": "1.5.0",
            "_model_name": "DescriptionStyleModel",
            "_view_count": null,
            "_view_module": "@jupyter-widgets/base",
            "_view_module_version": "1.2.0",
            "_view_name": "StyleView",
            "description_width": ""
          }
        },
        "fa272d8ae9fb453688feca33136eef35": {
          "model_module": "@jupyter-widgets/controls",
          "model_name": "HBoxModel",
          "model_module_version": "1.5.0",
          "state": {
            "_dom_classes": [],
            "_model_module": "@jupyter-widgets/controls",
            "_model_module_version": "1.5.0",
            "_model_name": "HBoxModel",
            "_view_count": null,
            "_view_module": "@jupyter-widgets/controls",
            "_view_module_version": "1.5.0",
            "_view_name": "HBoxView",
            "box_style": "",
            "children": [
              "IPY_MODEL_c1d21e4275304de3bf55b98ea1bc9537",
              "IPY_MODEL_9a2844cff2b64cc7b5f9bb917f026819",
              "IPY_MODEL_5eb1f5cdeb1d4700849f42c992677cd4"
            ],
            "layout": "IPY_MODEL_88b292406818419faac26a1b0ab6c6da"
          }
        },
        "c1d21e4275304de3bf55b98ea1bc9537": {
          "model_module": "@jupyter-widgets/controls",
          "model_name": "HTMLModel",
          "model_module_version": "1.5.0",
          "state": {
            "_dom_classes": [],
            "_model_module": "@jupyter-widgets/controls",
            "_model_module_version": "1.5.0",
            "_model_name": "HTMLModel",
            "_view_count": null,
            "_view_module": "@jupyter-widgets/controls",
            "_view_module_version": "1.5.0",
            "_view_name": "HTMLView",
            "description": "",
            "description_tooltip": null,
            "layout": "IPY_MODEL_d7e6ff2a6bc1487b99e9a922164f0908",
            "placeholder": "​",
            "style": "IPY_MODEL_a435ab70f06a476fbf0994305d3fe6b6",
            "value": "(…)-00000-of-00001-99e7e50144d1c164.parquet: 100%"
          }
        },
        "9a2844cff2b64cc7b5f9bb917f026819": {
          "model_module": "@jupyter-widgets/controls",
          "model_name": "FloatProgressModel",
          "model_module_version": "1.5.0",
          "state": {
            "_dom_classes": [],
            "_model_module": "@jupyter-widgets/controls",
            "_model_module_version": "1.5.0",
            "_model_name": "FloatProgressModel",
            "_view_count": null,
            "_view_module": "@jupyter-widgets/controls",
            "_view_module_version": "1.5.0",
            "_view_name": "ProgressView",
            "bar_style": "success",
            "description": "",
            "description_tooltip": null,
            "layout": "IPY_MODEL_13714d318d5843518a9d9c17f2ada6f2",
            "max": 1423076,
            "min": 0,
            "orientation": "horizontal",
            "style": "IPY_MODEL_e5e0f1c1c73a49718fdf217d023fabce",
            "value": 1423076
          }
        },
        "5eb1f5cdeb1d4700849f42c992677cd4": {
          "model_module": "@jupyter-widgets/controls",
          "model_name": "HTMLModel",
          "model_module_version": "1.5.0",
          "state": {
            "_dom_classes": [],
            "_model_module": "@jupyter-widgets/controls",
            "_model_module_version": "1.5.0",
            "_model_name": "HTMLModel",
            "_view_count": null,
            "_view_module": "@jupyter-widgets/controls",
            "_view_module_version": "1.5.0",
            "_view_name": "HTMLView",
            "description": "",
            "description_tooltip": null,
            "layout": "IPY_MODEL_22adcd062cb8499197173fc509f86245",
            "placeholder": "​",
            "style": "IPY_MODEL_5656db62e16940ac836864a9546d070e",
            "value": " 1.42M/1.42M [00:00&lt;00:00, 26.2MB/s]"
          }
        },
        "88b292406818419faac26a1b0ab6c6da": {
          "model_module": "@jupyter-widgets/base",
          "model_name": "LayoutModel",
          "model_module_version": "1.2.0",
          "state": {
            "_model_module": "@jupyter-widgets/base",
            "_model_module_version": "1.2.0",
            "_model_name": "LayoutModel",
            "_view_count": null,
            "_view_module": "@jupyter-widgets/base",
            "_view_module_version": "1.2.0",
            "_view_name": "LayoutView",
            "align_content": null,
            "align_items": null,
            "align_self": null,
            "border": null,
            "bottom": null,
            "display": null,
            "flex": null,
            "flex_flow": null,
            "grid_area": null,
            "grid_auto_columns": null,
            "grid_auto_flow": null,
            "grid_auto_rows": null,
            "grid_column": null,
            "grid_gap": null,
            "grid_row": null,
            "grid_template_areas": null,
            "grid_template_columns": null,
            "grid_template_rows": null,
            "height": null,
            "justify_content": null,
            "justify_items": null,
            "left": null,
            "margin": null,
            "max_height": null,
            "max_width": null,
            "min_height": null,
            "min_width": null,
            "object_fit": null,
            "object_position": null,
            "order": null,
            "overflow": null,
            "overflow_x": null,
            "overflow_y": null,
            "padding": null,
            "right": null,
            "top": null,
            "visibility": null,
            "width": null
          }
        },
        "d7e6ff2a6bc1487b99e9a922164f0908": {
          "model_module": "@jupyter-widgets/base",
          "model_name": "LayoutModel",
          "model_module_version": "1.2.0",
          "state": {
            "_model_module": "@jupyter-widgets/base",
            "_model_module_version": "1.2.0",
            "_model_name": "LayoutModel",
            "_view_count": null,
            "_view_module": "@jupyter-widgets/base",
            "_view_module_version": "1.2.0",
            "_view_name": "LayoutView",
            "align_content": null,
            "align_items": null,
            "align_self": null,
            "border": null,
            "bottom": null,
            "display": null,
            "flex": null,
            "flex_flow": null,
            "grid_area": null,
            "grid_auto_columns": null,
            "grid_auto_flow": null,
            "grid_auto_rows": null,
            "grid_column": null,
            "grid_gap": null,
            "grid_row": null,
            "grid_template_areas": null,
            "grid_template_columns": null,
            "grid_template_rows": null,
            "height": null,
            "justify_content": null,
            "justify_items": null,
            "left": null,
            "margin": null,
            "max_height": null,
            "max_width": null,
            "min_height": null,
            "min_width": null,
            "object_fit": null,
            "object_position": null,
            "order": null,
            "overflow": null,
            "overflow_x": null,
            "overflow_y": null,
            "padding": null,
            "right": null,
            "top": null,
            "visibility": null,
            "width": null
          }
        },
        "a435ab70f06a476fbf0994305d3fe6b6": {
          "model_module": "@jupyter-widgets/controls",
          "model_name": "DescriptionStyleModel",
          "model_module_version": "1.5.0",
          "state": {
            "_model_module": "@jupyter-widgets/controls",
            "_model_module_version": "1.5.0",
            "_model_name": "DescriptionStyleModel",
            "_view_count": null,
            "_view_module": "@jupyter-widgets/base",
            "_view_module_version": "1.2.0",
            "_view_name": "StyleView",
            "description_width": ""
          }
        },
        "13714d318d5843518a9d9c17f2ada6f2": {
          "model_module": "@jupyter-widgets/base",
          "model_name": "LayoutModel",
          "model_module_version": "1.2.0",
          "state": {
            "_model_module": "@jupyter-widgets/base",
            "_model_module_version": "1.2.0",
            "_model_name": "LayoutModel",
            "_view_count": null,
            "_view_module": "@jupyter-widgets/base",
            "_view_module_version": "1.2.0",
            "_view_name": "LayoutView",
            "align_content": null,
            "align_items": null,
            "align_self": null,
            "border": null,
            "bottom": null,
            "display": null,
            "flex": null,
            "flex_flow": null,
            "grid_area": null,
            "grid_auto_columns": null,
            "grid_auto_flow": null,
            "grid_auto_rows": null,
            "grid_column": null,
            "grid_gap": null,
            "grid_row": null,
            "grid_template_areas": null,
            "grid_template_columns": null,
            "grid_template_rows": null,
            "height": null,
            "justify_content": null,
            "justify_items": null,
            "left": null,
            "margin": null,
            "max_height": null,
            "max_width": null,
            "min_height": null,
            "min_width": null,
            "object_fit": null,
            "object_position": null,
            "order": null,
            "overflow": null,
            "overflow_x": null,
            "overflow_y": null,
            "padding": null,
            "right": null,
            "top": null,
            "visibility": null,
            "width": null
          }
        },
        "e5e0f1c1c73a49718fdf217d023fabce": {
          "model_module": "@jupyter-widgets/controls",
          "model_name": "ProgressStyleModel",
          "model_module_version": "1.5.0",
          "state": {
            "_model_module": "@jupyter-widgets/controls",
            "_model_module_version": "1.5.0",
            "_model_name": "ProgressStyleModel",
            "_view_count": null,
            "_view_module": "@jupyter-widgets/base",
            "_view_module_version": "1.2.0",
            "_view_name": "StyleView",
            "bar_color": null,
            "description_width": ""
          }
        },
        "22adcd062cb8499197173fc509f86245": {
          "model_module": "@jupyter-widgets/base",
          "model_name": "LayoutModel",
          "model_module_version": "1.2.0",
          "state": {
            "_model_module": "@jupyter-widgets/base",
            "_model_module_version": "1.2.0",
            "_model_name": "LayoutModel",
            "_view_count": null,
            "_view_module": "@jupyter-widgets/base",
            "_view_module_version": "1.2.0",
            "_view_name": "LayoutView",
            "align_content": null,
            "align_items": null,
            "align_self": null,
            "border": null,
            "bottom": null,
            "display": null,
            "flex": null,
            "flex_flow": null,
            "grid_area": null,
            "grid_auto_columns": null,
            "grid_auto_flow": null,
            "grid_auto_rows": null,
            "grid_column": null,
            "grid_gap": null,
            "grid_row": null,
            "grid_template_areas": null,
            "grid_template_columns": null,
            "grid_template_rows": null,
            "height": null,
            "justify_content": null,
            "justify_items": null,
            "left": null,
            "margin": null,
            "max_height": null,
            "max_width": null,
            "min_height": null,
            "min_width": null,
            "object_fit": null,
            "object_position": null,
            "order": null,
            "overflow": null,
            "overflow_x": null,
            "overflow_y": null,
            "padding": null,
            "right": null,
            "top": null,
            "visibility": null,
            "width": null
          }
        },
        "5656db62e16940ac836864a9546d070e": {
          "model_module": "@jupyter-widgets/controls",
          "model_name": "DescriptionStyleModel",
          "model_module_version": "1.5.0",
          "state": {
            "_model_module": "@jupyter-widgets/controls",
            "_model_module_version": "1.5.0",
            "_model_name": "DescriptionStyleModel",
            "_view_count": null,
            "_view_module": "@jupyter-widgets/base",
            "_view_module_version": "1.2.0",
            "_view_name": "StyleView",
            "description_width": ""
          }
        },
        "31ae6d50ff86451e80d8055c6cb82527": {
          "model_module": "@jupyter-widgets/controls",
          "model_name": "HBoxModel",
          "model_module_version": "1.5.0",
          "state": {
            "_dom_classes": [],
            "_model_module": "@jupyter-widgets/controls",
            "_model_module_version": "1.5.0",
            "_model_name": "HBoxModel",
            "_view_count": null,
            "_view_module": "@jupyter-widgets/controls",
            "_view_module_version": "1.5.0",
            "_view_name": "HBoxView",
            "box_style": "",
            "children": [
              "IPY_MODEL_61c4f0be0ed14169971cf32605448f35",
              "IPY_MODEL_9246c974d32f44a4967e129a9fb264f6",
              "IPY_MODEL_7be8a970bc7d41499979d8859987db98"
            ],
            "layout": "IPY_MODEL_46eae5b29264427fa4e3f6fa0f0cced5"
          }
        },
        "61c4f0be0ed14169971cf32605448f35": {
          "model_module": "@jupyter-widgets/controls",
          "model_name": "HTMLModel",
          "model_module_version": "1.5.0",
          "state": {
            "_dom_classes": [],
            "_model_module": "@jupyter-widgets/controls",
            "_model_module_version": "1.5.0",
            "_model_name": "HTMLModel",
            "_view_count": null,
            "_view_module": "@jupyter-widgets/controls",
            "_view_module_version": "1.5.0",
            "_view_name": "HTMLView",
            "description": "",
            "description_tooltip": null,
            "layout": "IPY_MODEL_c6e39358ba7944a19732c89b03d60e00",
            "placeholder": "​",
            "style": "IPY_MODEL_30535aa2c7e4497e8df5bf3a4df4aba5",
            "value": "Generating train split: 100%"
          }
        },
        "9246c974d32f44a4967e129a9fb264f6": {
          "model_module": "@jupyter-widgets/controls",
          "model_name": "FloatProgressModel",
          "model_module_version": "1.5.0",
          "state": {
            "_dom_classes": [],
            "_model_module": "@jupyter-widgets/controls",
            "_model_module_version": "1.5.0",
            "_model_name": "FloatProgressModel",
            "_view_count": null,
            "_view_module": "@jupyter-widgets/controls",
            "_view_module_version": "1.5.0",
            "_view_name": "ProgressView",
            "bar_style": "success",
            "description": "",
            "description_tooltip": null,
            "layout": "IPY_MODEL_88edb143aba0478ea364edc9feb0d6c2",
            "max": 203272,
            "min": 0,
            "orientation": "horizontal",
            "style": "IPY_MODEL_25ea27f49ddd4b0984a2d2fa87eb1683",
            "value": 203272
          }
        },
        "7be8a970bc7d41499979d8859987db98": {
          "model_module": "@jupyter-widgets/controls",
          "model_name": "HTMLModel",
          "model_module_version": "1.5.0",
          "state": {
            "_dom_classes": [],
            "_model_module": "@jupyter-widgets/controls",
            "_model_module_version": "1.5.0",
            "_model_name": "HTMLModel",
            "_view_count": null,
            "_view_module": "@jupyter-widgets/controls",
            "_view_module_version": "1.5.0",
            "_view_name": "HTMLView",
            "description": "",
            "description_tooltip": null,
            "layout": "IPY_MODEL_d46e82390ce2431dbe39a8d656b61ae8",
            "placeholder": "​",
            "style": "IPY_MODEL_c5160ec13128457c8f6e97d4dafdace2",
            "value": " 203272/203272 [00:00&lt;00:00, 390894.69 examples/s]"
          }
        },
        "46eae5b29264427fa4e3f6fa0f0cced5": {
          "model_module": "@jupyter-widgets/base",
          "model_name": "LayoutModel",
          "model_module_version": "1.2.0",
          "state": {
            "_model_module": "@jupyter-widgets/base",
            "_model_module_version": "1.2.0",
            "_model_name": "LayoutModel",
            "_view_count": null,
            "_view_module": "@jupyter-widgets/base",
            "_view_module_version": "1.2.0",
            "_view_name": "LayoutView",
            "align_content": null,
            "align_items": null,
            "align_self": null,
            "border": null,
            "bottom": null,
            "display": null,
            "flex": null,
            "flex_flow": null,
            "grid_area": null,
            "grid_auto_columns": null,
            "grid_auto_flow": null,
            "grid_auto_rows": null,
            "grid_column": null,
            "grid_gap": null,
            "grid_row": null,
            "grid_template_areas": null,
            "grid_template_columns": null,
            "grid_template_rows": null,
            "height": null,
            "justify_content": null,
            "justify_items": null,
            "left": null,
            "margin": null,
            "max_height": null,
            "max_width": null,
            "min_height": null,
            "min_width": null,
            "object_fit": null,
            "object_position": null,
            "order": null,
            "overflow": null,
            "overflow_x": null,
            "overflow_y": null,
            "padding": null,
            "right": null,
            "top": null,
            "visibility": null,
            "width": null
          }
        },
        "c6e39358ba7944a19732c89b03d60e00": {
          "model_module": "@jupyter-widgets/base",
          "model_name": "LayoutModel",
          "model_module_version": "1.2.0",
          "state": {
            "_model_module": "@jupyter-widgets/base",
            "_model_module_version": "1.2.0",
            "_model_name": "LayoutModel",
            "_view_count": null,
            "_view_module": "@jupyter-widgets/base",
            "_view_module_version": "1.2.0",
            "_view_name": "LayoutView",
            "align_content": null,
            "align_items": null,
            "align_self": null,
            "border": null,
            "bottom": null,
            "display": null,
            "flex": null,
            "flex_flow": null,
            "grid_area": null,
            "grid_auto_columns": null,
            "grid_auto_flow": null,
            "grid_auto_rows": null,
            "grid_column": null,
            "grid_gap": null,
            "grid_row": null,
            "grid_template_areas": null,
            "grid_template_columns": null,
            "grid_template_rows": null,
            "height": null,
            "justify_content": null,
            "justify_items": null,
            "left": null,
            "margin": null,
            "max_height": null,
            "max_width": null,
            "min_height": null,
            "min_width": null,
            "object_fit": null,
            "object_position": null,
            "order": null,
            "overflow": null,
            "overflow_x": null,
            "overflow_y": null,
            "padding": null,
            "right": null,
            "top": null,
            "visibility": null,
            "width": null
          }
        },
        "30535aa2c7e4497e8df5bf3a4df4aba5": {
          "model_module": "@jupyter-widgets/controls",
          "model_name": "DescriptionStyleModel",
          "model_module_version": "1.5.0",
          "state": {
            "_model_module": "@jupyter-widgets/controls",
            "_model_module_version": "1.5.0",
            "_model_name": "DescriptionStyleModel",
            "_view_count": null,
            "_view_module": "@jupyter-widgets/base",
            "_view_module_version": "1.2.0",
            "_view_name": "StyleView",
            "description_width": ""
          }
        },
        "88edb143aba0478ea364edc9feb0d6c2": {
          "model_module": "@jupyter-widgets/base",
          "model_name": "LayoutModel",
          "model_module_version": "1.2.0",
          "state": {
            "_model_module": "@jupyter-widgets/base",
            "_model_module_version": "1.2.0",
            "_model_name": "LayoutModel",
            "_view_count": null,
            "_view_module": "@jupyter-widgets/base",
            "_view_module_version": "1.2.0",
            "_view_name": "LayoutView",
            "align_content": null,
            "align_items": null,
            "align_self": null,
            "border": null,
            "bottom": null,
            "display": null,
            "flex": null,
            "flex_flow": null,
            "grid_area": null,
            "grid_auto_columns": null,
            "grid_auto_flow": null,
            "grid_auto_rows": null,
            "grid_column": null,
            "grid_gap": null,
            "grid_row": null,
            "grid_template_areas": null,
            "grid_template_columns": null,
            "grid_template_rows": null,
            "height": null,
            "justify_content": null,
            "justify_items": null,
            "left": null,
            "margin": null,
            "max_height": null,
            "max_width": null,
            "min_height": null,
            "min_width": null,
            "object_fit": null,
            "object_position": null,
            "order": null,
            "overflow": null,
            "overflow_x": null,
            "overflow_y": null,
            "padding": null,
            "right": null,
            "top": null,
            "visibility": null,
            "width": null
          }
        },
        "25ea27f49ddd4b0984a2d2fa87eb1683": {
          "model_module": "@jupyter-widgets/controls",
          "model_name": "ProgressStyleModel",
          "model_module_version": "1.5.0",
          "state": {
            "_model_module": "@jupyter-widgets/controls",
            "_model_module_version": "1.5.0",
            "_model_name": "ProgressStyleModel",
            "_view_count": null,
            "_view_module": "@jupyter-widgets/base",
            "_view_module_version": "1.2.0",
            "_view_name": "StyleView",
            "bar_color": null,
            "description_width": ""
          }
        },
        "d46e82390ce2431dbe39a8d656b61ae8": {
          "model_module": "@jupyter-widgets/base",
          "model_name": "LayoutModel",
          "model_module_version": "1.2.0",
          "state": {
            "_model_module": "@jupyter-widgets/base",
            "_model_module_version": "1.2.0",
            "_model_name": "LayoutModel",
            "_view_count": null,
            "_view_module": "@jupyter-widgets/base",
            "_view_module_version": "1.2.0",
            "_view_name": "LayoutView",
            "align_content": null,
            "align_items": null,
            "align_self": null,
            "border": null,
            "bottom": null,
            "display": null,
            "flex": null,
            "flex_flow": null,
            "grid_area": null,
            "grid_auto_columns": null,
            "grid_auto_flow": null,
            "grid_auto_rows": null,
            "grid_column": null,
            "grid_gap": null,
            "grid_row": null,
            "grid_template_areas": null,
            "grid_template_columns": null,
            "grid_template_rows": null,
            "height": null,
            "justify_content": null,
            "justify_items": null,
            "left": null,
            "margin": null,
            "max_height": null,
            "max_width": null,
            "min_height": null,
            "min_width": null,
            "object_fit": null,
            "object_position": null,
            "order": null,
            "overflow": null,
            "overflow_x": null,
            "overflow_y": null,
            "padding": null,
            "right": null,
            "top": null,
            "visibility": null,
            "width": null
          }
        },
        "c5160ec13128457c8f6e97d4dafdace2": {
          "model_module": "@jupyter-widgets/controls",
          "model_name": "DescriptionStyleModel",
          "model_module_version": "1.5.0",
          "state": {
            "_model_module": "@jupyter-widgets/controls",
            "_model_module_version": "1.5.0",
            "_model_name": "DescriptionStyleModel",
            "_view_count": null,
            "_view_module": "@jupyter-widgets/base",
            "_view_module_version": "1.2.0",
            "_view_name": "StyleView",
            "description_width": ""
          }
        },
        "c8e7dc297e1246b0892cc7a179002c3d": {
          "model_module": "@jupyter-widgets/controls",
          "model_name": "HBoxModel",
          "model_module_version": "1.5.0",
          "state": {
            "_dom_classes": [],
            "_model_module": "@jupyter-widgets/controls",
            "_model_module_version": "1.5.0",
            "_model_name": "HBoxModel",
            "_view_count": null,
            "_view_module": "@jupyter-widgets/controls",
            "_view_module_version": "1.5.0",
            "_view_name": "HBoxView",
            "box_style": "",
            "children": [
              "IPY_MODEL_1d740d9fbf874f32ab8e1ba259b30e9c",
              "IPY_MODEL_34647ce2de1a43f2982ba5c1614baa3b",
              "IPY_MODEL_2a72431ef7b14193b1ccc6b3c7220850"
            ],
            "layout": "IPY_MODEL_00823d748b47416aba92da1e2f660c40"
          }
        },
        "1d740d9fbf874f32ab8e1ba259b30e9c": {
          "model_module": "@jupyter-widgets/controls",
          "model_name": "HTMLModel",
          "model_module_version": "1.5.0",
          "state": {
            "_dom_classes": [],
            "_model_module": "@jupyter-widgets/controls",
            "_model_module_version": "1.5.0",
            "_model_name": "HTMLModel",
            "_view_count": null,
            "_view_module": "@jupyter-widgets/controls",
            "_view_module_version": "1.5.0",
            "_view_name": "HTMLView",
            "description": "",
            "description_tooltip": null,
            "layout": "IPY_MODEL_f7fe29b6fd944de785a993af1d04a989",
            "placeholder": "​",
            "style": "IPY_MODEL_8f88838e1d944fdd98716b8316217245",
            "value": "Generating test split: 100%"
          }
        },
        "34647ce2de1a43f2982ba5c1614baa3b": {
          "model_module": "@jupyter-widgets/controls",
          "model_name": "FloatProgressModel",
          "model_module_version": "1.5.0",
          "state": {
            "_dom_classes": [],
            "_model_module": "@jupyter-widgets/controls",
            "_model_module_version": "1.5.0",
            "_model_name": "FloatProgressModel",
            "_view_count": null,
            "_view_module": "@jupyter-widgets/controls",
            "_view_module_version": "1.5.0",
            "_view_name": "ProgressView",
            "bar_style": "success",
            "description": "",
            "description_tooltip": null,
            "layout": "IPY_MODEL_3400863700164c7697341858f24c472a",
            "max": 25409,
            "min": 0,
            "orientation": "horizontal",
            "style": "IPY_MODEL_068514826add481282c3acb890de0183",
            "value": 25409
          }
        },
        "2a72431ef7b14193b1ccc6b3c7220850": {
          "model_module": "@jupyter-widgets/controls",
          "model_name": "HTMLModel",
          "model_module_version": "1.5.0",
          "state": {
            "_dom_classes": [],
            "_model_module": "@jupyter-widgets/controls",
            "_model_module_version": "1.5.0",
            "_model_name": "HTMLModel",
            "_view_count": null,
            "_view_module": "@jupyter-widgets/controls",
            "_view_module_version": "1.5.0",
            "_view_name": "HTMLView",
            "description": "",
            "description_tooltip": null,
            "layout": "IPY_MODEL_0793e3772b104074b3d967202de02615",
            "placeholder": "​",
            "style": "IPY_MODEL_0c406a3f9dfa4eb1a13e8922e468d771",
            "value": " 25409/25409 [00:00&lt;00:00, 158014.66 examples/s]"
          }
        },
        "00823d748b47416aba92da1e2f660c40": {
          "model_module": "@jupyter-widgets/base",
          "model_name": "LayoutModel",
          "model_module_version": "1.2.0",
          "state": {
            "_model_module": "@jupyter-widgets/base",
            "_model_module_version": "1.2.0",
            "_model_name": "LayoutModel",
            "_view_count": null,
            "_view_module": "@jupyter-widgets/base",
            "_view_module_version": "1.2.0",
            "_view_name": "LayoutView",
            "align_content": null,
            "align_items": null,
            "align_self": null,
            "border": null,
            "bottom": null,
            "display": null,
            "flex": null,
            "flex_flow": null,
            "grid_area": null,
            "grid_auto_columns": null,
            "grid_auto_flow": null,
            "grid_auto_rows": null,
            "grid_column": null,
            "grid_gap": null,
            "grid_row": null,
            "grid_template_areas": null,
            "grid_template_columns": null,
            "grid_template_rows": null,
            "height": null,
            "justify_content": null,
            "justify_items": null,
            "left": null,
            "margin": null,
            "max_height": null,
            "max_width": null,
            "min_height": null,
            "min_width": null,
            "object_fit": null,
            "object_position": null,
            "order": null,
            "overflow": null,
            "overflow_x": null,
            "overflow_y": null,
            "padding": null,
            "right": null,
            "top": null,
            "visibility": null,
            "width": null
          }
        },
        "f7fe29b6fd944de785a993af1d04a989": {
          "model_module": "@jupyter-widgets/base",
          "model_name": "LayoutModel",
          "model_module_version": "1.2.0",
          "state": {
            "_model_module": "@jupyter-widgets/base",
            "_model_module_version": "1.2.0",
            "_model_name": "LayoutModel",
            "_view_count": null,
            "_view_module": "@jupyter-widgets/base",
            "_view_module_version": "1.2.0",
            "_view_name": "LayoutView",
            "align_content": null,
            "align_items": null,
            "align_self": null,
            "border": null,
            "bottom": null,
            "display": null,
            "flex": null,
            "flex_flow": null,
            "grid_area": null,
            "grid_auto_columns": null,
            "grid_auto_flow": null,
            "grid_auto_rows": null,
            "grid_column": null,
            "grid_gap": null,
            "grid_row": null,
            "grid_template_areas": null,
            "grid_template_columns": null,
            "grid_template_rows": null,
            "height": null,
            "justify_content": null,
            "justify_items": null,
            "left": null,
            "margin": null,
            "max_height": null,
            "max_width": null,
            "min_height": null,
            "min_width": null,
            "object_fit": null,
            "object_position": null,
            "order": null,
            "overflow": null,
            "overflow_x": null,
            "overflow_y": null,
            "padding": null,
            "right": null,
            "top": null,
            "visibility": null,
            "width": null
          }
        },
        "8f88838e1d944fdd98716b8316217245": {
          "model_module": "@jupyter-widgets/controls",
          "model_name": "DescriptionStyleModel",
          "model_module_version": "1.5.0",
          "state": {
            "_model_module": "@jupyter-widgets/controls",
            "_model_module_version": "1.5.0",
            "_model_name": "DescriptionStyleModel",
            "_view_count": null,
            "_view_module": "@jupyter-widgets/base",
            "_view_module_version": "1.2.0",
            "_view_name": "StyleView",
            "description_width": ""
          }
        },
        "3400863700164c7697341858f24c472a": {
          "model_module": "@jupyter-widgets/base",
          "model_name": "LayoutModel",
          "model_module_version": "1.2.0",
          "state": {
            "_model_module": "@jupyter-widgets/base",
            "_model_module_version": "1.2.0",
            "_model_name": "LayoutModel",
            "_view_count": null,
            "_view_module": "@jupyter-widgets/base",
            "_view_module_version": "1.2.0",
            "_view_name": "LayoutView",
            "align_content": null,
            "align_items": null,
            "align_self": null,
            "border": null,
            "bottom": null,
            "display": null,
            "flex": null,
            "flex_flow": null,
            "grid_area": null,
            "grid_auto_columns": null,
            "grid_auto_flow": null,
            "grid_auto_rows": null,
            "grid_column": null,
            "grid_gap": null,
            "grid_row": null,
            "grid_template_areas": null,
            "grid_template_columns": null,
            "grid_template_rows": null,
            "height": null,
            "justify_content": null,
            "justify_items": null,
            "left": null,
            "margin": null,
            "max_height": null,
            "max_width": null,
            "min_height": null,
            "min_width": null,
            "object_fit": null,
            "object_position": null,
            "order": null,
            "overflow": null,
            "overflow_x": null,
            "overflow_y": null,
            "padding": null,
            "right": null,
            "top": null,
            "visibility": null,
            "width": null
          }
        },
        "068514826add481282c3acb890de0183": {
          "model_module": "@jupyter-widgets/controls",
          "model_name": "ProgressStyleModel",
          "model_module_version": "1.5.0",
          "state": {
            "_model_module": "@jupyter-widgets/controls",
            "_model_module_version": "1.5.0",
            "_model_name": "ProgressStyleModel",
            "_view_count": null,
            "_view_module": "@jupyter-widgets/base",
            "_view_module_version": "1.2.0",
            "_view_name": "StyleView",
            "bar_color": null,
            "description_width": ""
          }
        },
        "0793e3772b104074b3d967202de02615": {
          "model_module": "@jupyter-widgets/base",
          "model_name": "LayoutModel",
          "model_module_version": "1.2.0",
          "state": {
            "_model_module": "@jupyter-widgets/base",
            "_model_module_version": "1.2.0",
            "_model_name": "LayoutModel",
            "_view_count": null,
            "_view_module": "@jupyter-widgets/base",
            "_view_module_version": "1.2.0",
            "_view_name": "LayoutView",
            "align_content": null,
            "align_items": null,
            "align_self": null,
            "border": null,
            "bottom": null,
            "display": null,
            "flex": null,
            "flex_flow": null,
            "grid_area": null,
            "grid_auto_columns": null,
            "grid_auto_flow": null,
            "grid_auto_rows": null,
            "grid_column": null,
            "grid_gap": null,
            "grid_row": null,
            "grid_template_areas": null,
            "grid_template_columns": null,
            "grid_template_rows": null,
            "height": null,
            "justify_content": null,
            "justify_items": null,
            "left": null,
            "margin": null,
            "max_height": null,
            "max_width": null,
            "min_height": null,
            "min_width": null,
            "object_fit": null,
            "object_position": null,
            "order": null,
            "overflow": null,
            "overflow_x": null,
            "overflow_y": null,
            "padding": null,
            "right": null,
            "top": null,
            "visibility": null,
            "width": null
          }
        },
        "0c406a3f9dfa4eb1a13e8922e468d771": {
          "model_module": "@jupyter-widgets/controls",
          "model_name": "DescriptionStyleModel",
          "model_module_version": "1.5.0",
          "state": {
            "_model_module": "@jupyter-widgets/controls",
            "_model_module_version": "1.5.0",
            "_model_name": "DescriptionStyleModel",
            "_view_count": null,
            "_view_module": "@jupyter-widgets/base",
            "_view_module_version": "1.2.0",
            "_view_name": "StyleView",
            "description_width": ""
          }
        },
        "3ff7b7a391654d8eaba3ed85cc71c0fe": {
          "model_module": "@jupyter-widgets/controls",
          "model_name": "HBoxModel",
          "model_module_version": "1.5.0",
          "state": {
            "_dom_classes": [],
            "_model_module": "@jupyter-widgets/controls",
            "_model_module_version": "1.5.0",
            "_model_name": "HBoxModel",
            "_view_count": null,
            "_view_module": "@jupyter-widgets/controls",
            "_view_module_version": "1.5.0",
            "_view_name": "HBoxView",
            "box_style": "",
            "children": [
              "IPY_MODEL_ddd4d82945aa44bda40aa8e84a5b4199",
              "IPY_MODEL_7f083f4fff8d421c8a155c0774d7d8f9",
              "IPY_MODEL_060389a7bdbc42af91b6fb5055adef95"
            ],
            "layout": "IPY_MODEL_0f7114ddb2cf4f519263101d26c8ccba"
          }
        },
        "ddd4d82945aa44bda40aa8e84a5b4199": {
          "model_module": "@jupyter-widgets/controls",
          "model_name": "HTMLModel",
          "model_module_version": "1.5.0",
          "state": {
            "_dom_classes": [],
            "_model_module": "@jupyter-widgets/controls",
            "_model_module_version": "1.5.0",
            "_model_name": "HTMLModel",
            "_view_count": null,
            "_view_module": "@jupyter-widgets/controls",
            "_view_module_version": "1.5.0",
            "_view_name": "HTMLView",
            "description": "",
            "description_tooltip": null,
            "layout": "IPY_MODEL_351b56b791814709adf185af36093ecb",
            "placeholder": "​",
            "style": "IPY_MODEL_8cc1deaa2d6c4f00ad43321c818a2da1",
            "value": "Generating valid split: 100%"
          }
        },
        "7f083f4fff8d421c8a155c0774d7d8f9": {
          "model_module": "@jupyter-widgets/controls",
          "model_name": "FloatProgressModel",
          "model_module_version": "1.5.0",
          "state": {
            "_dom_classes": [],
            "_model_module": "@jupyter-widgets/controls",
            "_model_module_version": "1.5.0",
            "_model_name": "FloatProgressModel",
            "_view_count": null,
            "_view_module": "@jupyter-widgets/controls",
            "_view_module_version": "1.5.0",
            "_view_name": "ProgressView",
            "bar_style": "success",
            "description": "",
            "description_tooltip": null,
            "layout": "IPY_MODEL_a1d0f443eb7a47f99f467e5c58b1c4a0",
            "max": 25409,
            "min": 0,
            "orientation": "horizontal",
            "style": "IPY_MODEL_02d3e3d3612d402a94c5dc3145f9f0d8",
            "value": 25409
          }
        },
        "060389a7bdbc42af91b6fb5055adef95": {
          "model_module": "@jupyter-widgets/controls",
          "model_name": "HTMLModel",
          "model_module_version": "1.5.0",
          "state": {
            "_dom_classes": [],
            "_model_module": "@jupyter-widgets/controls",
            "_model_module_version": "1.5.0",
            "_model_name": "HTMLModel",
            "_view_count": null,
            "_view_module": "@jupyter-widgets/controls",
            "_view_module_version": "1.5.0",
            "_view_name": "HTMLView",
            "description": "",
            "description_tooltip": null,
            "layout": "IPY_MODEL_b9b80d50e7634dd3bf87189fee76369e",
            "placeholder": "​",
            "style": "IPY_MODEL_26852dc12cee48508bb99506b92a32c5",
            "value": " 25409/25409 [00:00&lt;00:00, 257157.64 examples/s]"
          }
        },
        "0f7114ddb2cf4f519263101d26c8ccba": {
          "model_module": "@jupyter-widgets/base",
          "model_name": "LayoutModel",
          "model_module_version": "1.2.0",
          "state": {
            "_model_module": "@jupyter-widgets/base",
            "_model_module_version": "1.2.0",
            "_model_name": "LayoutModel",
            "_view_count": null,
            "_view_module": "@jupyter-widgets/base",
            "_view_module_version": "1.2.0",
            "_view_name": "LayoutView",
            "align_content": null,
            "align_items": null,
            "align_self": null,
            "border": null,
            "bottom": null,
            "display": null,
            "flex": null,
            "flex_flow": null,
            "grid_area": null,
            "grid_auto_columns": null,
            "grid_auto_flow": null,
            "grid_auto_rows": null,
            "grid_column": null,
            "grid_gap": null,
            "grid_row": null,
            "grid_template_areas": null,
            "grid_template_columns": null,
            "grid_template_rows": null,
            "height": null,
            "justify_content": null,
            "justify_items": null,
            "left": null,
            "margin": null,
            "max_height": null,
            "max_width": null,
            "min_height": null,
            "min_width": null,
            "object_fit": null,
            "object_position": null,
            "order": null,
            "overflow": null,
            "overflow_x": null,
            "overflow_y": null,
            "padding": null,
            "right": null,
            "top": null,
            "visibility": null,
            "width": null
          }
        },
        "351b56b791814709adf185af36093ecb": {
          "model_module": "@jupyter-widgets/base",
          "model_name": "LayoutModel",
          "model_module_version": "1.2.0",
          "state": {
            "_model_module": "@jupyter-widgets/base",
            "_model_module_version": "1.2.0",
            "_model_name": "LayoutModel",
            "_view_count": null,
            "_view_module": "@jupyter-widgets/base",
            "_view_module_version": "1.2.0",
            "_view_name": "LayoutView",
            "align_content": null,
            "align_items": null,
            "align_self": null,
            "border": null,
            "bottom": null,
            "display": null,
            "flex": null,
            "flex_flow": null,
            "grid_area": null,
            "grid_auto_columns": null,
            "grid_auto_flow": null,
            "grid_auto_rows": null,
            "grid_column": null,
            "grid_gap": null,
            "grid_row": null,
            "grid_template_areas": null,
            "grid_template_columns": null,
            "grid_template_rows": null,
            "height": null,
            "justify_content": null,
            "justify_items": null,
            "left": null,
            "margin": null,
            "max_height": null,
            "max_width": null,
            "min_height": null,
            "min_width": null,
            "object_fit": null,
            "object_position": null,
            "order": null,
            "overflow": null,
            "overflow_x": null,
            "overflow_y": null,
            "padding": null,
            "right": null,
            "top": null,
            "visibility": null,
            "width": null
          }
        },
        "8cc1deaa2d6c4f00ad43321c818a2da1": {
          "model_module": "@jupyter-widgets/controls",
          "model_name": "DescriptionStyleModel",
          "model_module_version": "1.5.0",
          "state": {
            "_model_module": "@jupyter-widgets/controls",
            "_model_module_version": "1.5.0",
            "_model_name": "DescriptionStyleModel",
            "_view_count": null,
            "_view_module": "@jupyter-widgets/base",
            "_view_module_version": "1.2.0",
            "_view_name": "StyleView",
            "description_width": ""
          }
        },
        "a1d0f443eb7a47f99f467e5c58b1c4a0": {
          "model_module": "@jupyter-widgets/base",
          "model_name": "LayoutModel",
          "model_module_version": "1.2.0",
          "state": {
            "_model_module": "@jupyter-widgets/base",
            "_model_module_version": "1.2.0",
            "_model_name": "LayoutModel",
            "_view_count": null,
            "_view_module": "@jupyter-widgets/base",
            "_view_module_version": "1.2.0",
            "_view_name": "LayoutView",
            "align_content": null,
            "align_items": null,
            "align_self": null,
            "border": null,
            "bottom": null,
            "display": null,
            "flex": null,
            "flex_flow": null,
            "grid_area": null,
            "grid_auto_columns": null,
            "grid_auto_flow": null,
            "grid_auto_rows": null,
            "grid_column": null,
            "grid_gap": null,
            "grid_row": null,
            "grid_template_areas": null,
            "grid_template_columns": null,
            "grid_template_rows": null,
            "height": null,
            "justify_content": null,
            "justify_items": null,
            "left": null,
            "margin": null,
            "max_height": null,
            "max_width": null,
            "min_height": null,
            "min_width": null,
            "object_fit": null,
            "object_position": null,
            "order": null,
            "overflow": null,
            "overflow_x": null,
            "overflow_y": null,
            "padding": null,
            "right": null,
            "top": null,
            "visibility": null,
            "width": null
          }
        },
        "02d3e3d3612d402a94c5dc3145f9f0d8": {
          "model_module": "@jupyter-widgets/controls",
          "model_name": "ProgressStyleModel",
          "model_module_version": "1.5.0",
          "state": {
            "_model_module": "@jupyter-widgets/controls",
            "_model_module_version": "1.5.0",
            "_model_name": "ProgressStyleModel",
            "_view_count": null,
            "_view_module": "@jupyter-widgets/base",
            "_view_module_version": "1.2.0",
            "_view_name": "StyleView",
            "bar_color": null,
            "description_width": ""
          }
        },
        "b9b80d50e7634dd3bf87189fee76369e": {
          "model_module": "@jupyter-widgets/base",
          "model_name": "LayoutModel",
          "model_module_version": "1.2.0",
          "state": {
            "_model_module": "@jupyter-widgets/base",
            "_model_module_version": "1.2.0",
            "_model_name": "LayoutModel",
            "_view_count": null,
            "_view_module": "@jupyter-widgets/base",
            "_view_module_version": "1.2.0",
            "_view_name": "LayoutView",
            "align_content": null,
            "align_items": null,
            "align_self": null,
            "border": null,
            "bottom": null,
            "display": null,
            "flex": null,
            "flex_flow": null,
            "grid_area": null,
            "grid_auto_columns": null,
            "grid_auto_flow": null,
            "grid_auto_rows": null,
            "grid_column": null,
            "grid_gap": null,
            "grid_row": null,
            "grid_template_areas": null,
            "grid_template_columns": null,
            "grid_template_rows": null,
            "height": null,
            "justify_content": null,
            "justify_items": null,
            "left": null,
            "margin": null,
            "max_height": null,
            "max_width": null,
            "min_height": null,
            "min_width": null,
            "object_fit": null,
            "object_position": null,
            "order": null,
            "overflow": null,
            "overflow_x": null,
            "overflow_y": null,
            "padding": null,
            "right": null,
            "top": null,
            "visibility": null,
            "width": null
          }
        },
        "26852dc12cee48508bb99506b92a32c5": {
          "model_module": "@jupyter-widgets/controls",
          "model_name": "DescriptionStyleModel",
          "model_module_version": "1.5.0",
          "state": {
            "_model_module": "@jupyter-widgets/controls",
            "_model_module_version": "1.5.0",
            "_model_name": "DescriptionStyleModel",
            "_view_count": null,
            "_view_module": "@jupyter-widgets/base",
            "_view_module_version": "1.2.0",
            "_view_name": "StyleView",
            "description_width": ""
          }
        }
      }
    }
  },
  "nbformat": 4,
  "nbformat_minor": 0
}